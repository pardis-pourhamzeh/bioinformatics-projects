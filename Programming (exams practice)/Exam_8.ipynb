{
 "cells": [
  {
   "cell_type": "markdown",
   "id": "41e96adf-3a2a-4582-a8b7-d3187f08c653",
   "metadata": {},
   "source": [
    "# Exam January 2023"
   ]
  },
  {
   "cell_type": "markdown",
   "id": "58afc29c-264e-4e7b-86e6-cfa00c4214ce",
   "metadata": {},
   "source": [
    "## Ex 1\n",
    "Write a Python code that extracts the information from the file and builds a dictionary, where keys are Useridentifiers\n",
    "and values are lists of tuples (Date, EntryTime, ExitTime) representing an admission to the swimming pool.\n",
    "Note: for simplicity, keep dates and times as strings."
   ]
  },
  {
   "cell_type": "code",
   "execution_count": 2,
   "id": "16e75410b5d0b463",
   "metadata": {
    "ExecuteTime": {
     "end_time": "2025-06-24T18:48:14.186706Z",
     "start_time": "2025-06-24T18:48:14.174088Z"
    }
   },
   "outputs": [
    {
     "data": {
      "text/plain": [
       "{'101': [('2023-01-01', '09:00', '10:00'), ('2023-03-02', '10:00', '11:15')],\n",
       " '102': [('2023-03-01', '09:30', '11:00'), ('2023-05-03', '14:00', '15:30')],\n",
       " '103': [('2023-04-01', '08:45', '10:15')]}"
      ]
     },
     "execution_count": 2,
     "metadata": {},
     "output_type": "execute_result"
    }
   ],
   "source": [
    "with open('sp-admissions.tsv','w') as f:\n",
    "    lines = [\n",
    "    \"User\\tDate\\tEntryTime\\tExitTime\",\n",
    "    \"101\\t2023-01-01\\t09:00\\t10:00\",\n",
    "    \"102\\t2023-03-01\\t09:30\\t11:00\",\n",
    "    \"101\\t2023-03-02\\t10:00\\t11:15\",\n",
    "    \"103\\t2023-04-01\\t08:45\\t10:15\",\n",
    "    \"102\\t2023-05-03\\t14:00\\t15:30\",]\n",
    "    f.writelines('\\n'.join(lines))\n",
    "\n",
    "with open('sp-admissions.tsv', 'r') as file:\n",
    "    file.readline()\n",
    "    dictionary = {}\n",
    "    for line in file:\n",
    "        line_list=[line.strip().split('\\t')]\n",
    "        for line in line_list:\n",
    "            if line[0] not in dictionary:\n",
    "                dictionary[line[0]] = [(line[1],line[2],line[3])]\n",
    "            else:\n",
    "                dictionary[line[0]].append((line[1],line[2],line[3]))\n",
    "\n",
    "dictionary\n"
   ]
  },
  {
   "cell_type": "markdown",
   "id": "4f0c3ef8-343d-4b8f-b288-2359ddb6d394",
   "metadata": {},
   "source": [
    "## Ex 2\n",
    "Write a Python code that creates a modified version of the dictionary built in 1), so that each value is a list\n",
    "with three elements: the user’s list of admissions, the number of admissions, and the number of evening admissions (whose\n",
    "entry time is after 18:00). Solutions employing comprehension are preferred."
   ]
  },
  {
   "cell_type": "code",
   "execution_count": 3,
   "id": "7faa53e7ec2bb90f",
   "metadata": {
    "ExecuteTime": {
     "end_time": "2025-06-24T18:48:22.184935Z",
     "start_time": "2025-06-24T18:48:22.179280Z"
    }
   },
   "outputs": [
    {
     "data": {
      "text/plain": [
       "{'101': [['2023-01-01,09:00,10:00', '2023-03-02,10:00,11:15'], 2, 0],\n",
       " '102': [['2023-03-01,09:30,11:00', '2023-05-03,14:00,15:30'], 2, 0],\n",
       " '103': [['2023-04-01,08:45,10:15'], 1, 0]}"
      ]
     },
     "execution_count": 3,
     "metadata": {},
     "output_type": "execute_result"
    }
   ],
   "source": [
    "diction_variation={ ky:[[ ','.join(t) for t in vl],len(vl),len([True for t in vl if t[1]>'18:00'])] for ky, vl in dictionary.items()}\n"
   ]
  },
  {
   "cell_type": "markdown",
   "id": "47e45f42-dba4-4a07-942d-2a5bff0da6ec",
   "metadata": {},
   "source": [
    "## Ex 3\n",
    "Write a Python function that extracts the user with the greatest number of admissions. \n",
    "\n",
    "Note: as dict_name, you may use a dictionary that you built previously in points 1) or 2)."
   ]
  },
  {
   "cell_type": "code",
   "execution_count": 88,
   "id": "4c199dfb44eed112",
   "metadata": {
    "ExecuteTime": {
     "end_time": "2025-06-23T17:41:10.575923Z",
     "start_time": "2025-06-23T17:41:10.567560Z"
    }
   },
   "outputs": [
    {
     "name": "stdout",
     "output_type": "stream",
     "text": [
      "['101', '102']\n"
     ]
    },
    {
     "data": {
      "text/plain": [
       "['101', '102']"
      ]
     },
     "execution_count": 88,
     "metadata": {},
     "output_type": "execute_result"
    }
   ],
   "source": [
    "def dict_name():\n",
    "    fans=[]\n",
    "    mx=max([len(vl) for vl in dictionary.values()])\n",
    "    for ky, vl in dictionary.items():\n",
    "        if len(vl)==mx:\n",
    "            fans.append(ky)\n",
    "    return fans\n",
    "\n",
    "# or\n",
    "def grestes():\n",
    "    fans=[]\n",
    "    mx=max([len(vl) for vl in dictionary.values()])\n",
    "    for ky, vl in diction_variation.items():\n",
    "        if vl[1]==mx:\n",
    "            fans.append(ky)\n",
    "\n",
    "    return fans\n",
    "\n",
    "\n",
    "h=dict_name()\n",
    "print(h)\n",
    "grestes()"
   ]
  },
  {
   "cell_type": "markdown",
   "id": "8f49a7b6-64a4-42e7-a8c2-b794abc06957",
   "metadata": {},
   "source": [
    "### Some details on sorting dictionaries"
   ]
  },
  {
   "cell_type": "markdown",
   "id": "2cba454f-24f4-4c92-b9aa-11d4abc16d0d",
   "metadata": {},
   "source": [
    "## Ex 3 - different text\n",
    "Write a Python function that extracts the users **who only entered once**"
   ]
  },
  {
   "cell_type": "code",
   "execution_count": 89,
   "id": "8e06bd6168e91aaa",
   "metadata": {
    "ExecuteTime": {
     "end_time": "2025-06-23T17:41:13.928875Z",
     "start_time": "2025-06-23T17:41:13.923534Z"
    }
   },
   "outputs": [
    {
     "data": {
      "text/plain": [
       "['103']"
      ]
     },
     "execution_count": 89,
     "metadata": {},
     "output_type": "execute_result"
    }
   ],
   "source": [
    "def user_once ():\n",
    "    not_fan=[]\n",
    "    for ky, vl in diction_variation.items():\n",
    "        if vl[1]==1:\n",
    "            not_fan.append(ky)\n",
    "    return not_fan\n",
    "\n",
    "user_once()"
   ]
  },
  {
   "cell_type": "markdown",
   "id": "baa6fefe-045f-4440-b186-30ef34f82440",
   "metadata": {},
   "source": [
    "## Ex 4\n",
    "Write a Python code that counts the admissions in the swimming pool in each month and plots them in a bar\n",
    "plot sorted by month."
   ]
  },
  {
   "cell_type": "code",
   "execution_count": 4,
   "id": "1674391140029e24",
   "metadata": {
    "ExecuteTime": {
     "end_time": "2025-06-24T19:23:57.701787Z",
     "start_time": "2025-06-24T19:23:57.293478Z"
    }
   },
   "outputs": [
    {
     "data": {
      "image/png": "[encoded data removed]",
      "text/plain": [
       "<Figure size 640x480 with 1 Axes>"
      ]
     },
     "metadata": {},
     "output_type": "display_data"
    }
   ],
   "source": [
    "import matplotlib.pyplot as plt\n",
    "def extract_month(date):\n",
    "    #or directly\n",
    "    #month=[tuple[0].split('-')[1] for ky,vl in dictionary.items() for tuple in vl]\n",
    "    month=date.strip().split('-')[1]\n",
    "    return month\n",
    "\n",
    "month_count_dict={}\n",
    "for ky, vl in dictionary.items():\n",
    "    for tuple in vl:\n",
    "        if extract_month(tuple[0]) not in month_count_dict:\n",
    "            month_count_dict[extract_month(tuple[0])] = 1\n",
    "        else:\n",
    "            month_count_dict[extract_month(tuple[0])] += 1\n",
    "out=dict(sorted(month_count_dict.items()))\n",
    "plt.bar(out.keys(), out.values())\n",
    "plt.show()\n"
   ]
  },
  {
   "cell_type": "markdown",
   "id": "a8a1c015-2801-40d5-bd61-f3536bd69390",
   "metadata": {},
   "source": [
    "## Ex 5\n",
    "Implement the necessary code to handle a **SwimmingPool** class, which stores the name, location, and the list of its Users. \n",
    "\n",
    "**Users** are represented as a class, with id, full name, and their admissions list. \n",
    "\n",
    "The SwimmingPool class has a method *add_user* to add a single user to the list of users. \n",
    "If a user with the same id already exists in the list of users, a DuplicateUserException is raised. \n",
    "\n",
    "The User class implements the methods:\n",
    "- register_entry (creating an admission with date and entry time, which must be later than the ones previously recorded) and \n",
    "- register_exit (closing the last stored admission with its exit time, which must be later than entry time). \n",
    "\n",
    "If errors are made in input, WrongAdmissionExceptions are raised, with appropriate messages.\n",
    "\n",
    "Users of a special kind, i.e., PSPUser (Public School Pupils), are frequent users of the pool, as they come during school\n",
    "times in big groups. In addition to normal users, they also have a pupil_id and the school information. They have a method\n",
    "deactivate_pupil that assigns None to the pupil_id when he/she is no longer enrolled in the school.\n",
    "\n",
    "Implement the method that allows us to represent the entire information of the swimming pool, showing the admissions\n",
    "for each admitted User. Admissions of deactivated pupils are not printed (see a correct example of use below)."
   ]
  },
  {
   "cell_type": "code",
   "execution_count": 91,
   "id": "b0d3e91e3d77f89a",
   "metadata": {
    "ExecuteTime": {
     "end_time": "2025-06-23T17:41:34.373152Z",
     "start_time": "2025-06-23T17:41:34.361800Z"
    }
   },
   "outputs": [],
   "source": [
    "class DuplicateUser(Exception):\n",
    "    pass\n",
    "\n",
    "class WrongAdmission(Exception):\n",
    "    def __init__(self, msg):\n",
    "        self.msg = msg\n",
    "    def __str__(self):\n",
    "        return self.msg\n",
    "\n",
    "class User:\n",
    "    def __init__(self,id,fullname):\n",
    "        self.id=id\n",
    "        self.fullname=fullname\n",
    "        self.admissions_list=[]\n",
    "\n",
    "    def __iter__(self):\n",
    "        return iter(self.admissions_list)\n",
    "\n",
    "    def __eq__(self, other):\n",
    "        if isinstance(other,User):\n",
    "            return self.id==other.id\n",
    "\n",
    "    def __hash__(self):\n",
    "        return hash(self.id)\n",
    "\n",
    "    def register_entry(self,date:str,entrytime:str):\n",
    "        date=date.strip()\n",
    "        entrytime=entrytime.strip()\n",
    "        if len(self.admissions_list):\n",
    "            last_one= ''.join(self.admissions_list[-1][:2])\n",
    "            ref=date+entrytime\n",
    "            if ref>last_one:\n",
    "               self.admissions_list.append([date,entrytime])\n",
    "            else:\n",
    "               raise WrongAdmission('the date and time of registeration  must be greater than the last')\n",
    "        else:\n",
    "             self.admissions_list.append([date,entrytime])\n",
    "\n",
    "\n",
    "    def register_exit (self,exittime:str):\n",
    "        exittime=exittime.strip()\n",
    "        last_record=self.admissions_list[-1]\n",
    "        if self.admissions_list[-1][1] < exittime:\n",
    "            self.admissions_list[-1].append(exittime)\n",
    "        else:\n",
    "            raise WrongAdmission('exit time must be later than the entrytime')\n",
    "\n",
    "\n",
    "class PSPUser (User):\n",
    "     def __init__(self,id,fullname,pupil_id,schoolinfo):\n",
    "         super().__init__(id,fullname)\n",
    "         self.pupil_id=pupil_id\n",
    "         self.schoolinfo=schoolinfo\n",
    "\n",
    "     def deactivate_pupil(self):\n",
    "         self.pupil_id= None\n",
    "\n",
    "\n",
    "class SwimmingPool:\n",
    "    def __init__(self,name,loc):\n",
    "        self.name=name\n",
    "        self.location=loc\n",
    "        self.users_list=[]\n",
    "\n",
    "    def add_user(self,user):\n",
    "        if user in self.users_list:\n",
    "            raise DuplicateUser ('User already exists')\n",
    "        self.users_list.append(user)\n",
    "\n",
    "    def __str__(self):\n",
    "       output = f'Swimming pool: {self.name}\\nLocation: {self.location}\\n'\n",
    "       for user in self.users_list:\n",
    "          if isinstance(user, PSPUser) and user.pupil_id is None:\n",
    "            continue\n",
    "          output +=f'User{user.id}\\n{'\\n'.join(['  '.join(ad) for ad in user.admissions_list])}\\n'\n",
    "       return output\n"
   ]
  },
  {
   "cell_type": "markdown",
   "id": "6ff813cb-119f-498e-b6a6-b27a65b9fcf3",
   "metadata": {},
   "source": [
    "### Example of call\n"
   ]
  },
  {
   "cell_type": "code",
   "execution_count": 92,
   "id": "9ab262b62d0cb740",
   "metadata": {
    "ExecuteTime": {
     "end_time": "2025-06-23T17:41:36.792272Z",
     "start_time": "2025-06-23T17:41:36.786220Z"
    }
   },
   "outputs": [
    {
     "name": "stdout",
     "output_type": "stream",
     "text": [
      "Swimming pool: Bacone\n",
      "Location: Via Piccinni, 8, Milano\n",
      "User1\n",
      "2022-01-20  11:23  13:30\n",
      "2022-01-21  12:30  13:30\n",
      "User4\n",
      "2022-04-20  15:34  17:30\n",
      "\n"
     ]
    }
   ],
   "source": [
    "sp=SwimmingPool('Bacone', 'Via Piccinni, 8, Milano')\n",
    "u1=User(1,'Paolo')\n",
    "u1.register_entry('2022-01-20','11:23')\n",
    "u1.register_exit('13:30')\n",
    "u1.register_entry('2022-01-21', '12:30')\n",
    "u1.register_exit('13:30')\n",
    "sp.add_user(u1)\n",
    "u3=PSPUser (3, 'Laura', 'p1', 'Copernico')\n",
    "u3.register_entry('2022-01-22', '11:22')\n",
    "u3.register_exit('13:30')\n",
    "sp.add_user(u3)\n",
    "u3.deactivate_pupil()\n",
    "u4=PSPUser(4, 'Chiara', 'p2', 'Galvani')\n",
    "u4.register_entry('2022-04-20', '15:34')\n",
    "u4.register_exit('17:30')\n",
    "sp.add_user(u4)\n",
    "\n",
    "print(sp)"
   ]
  }
 ],
 "metadata": {
  "kernelspec": {
   "display_name": "Python 3",
   "language": "python",
   "name": "python3"
  },
  "language_info": {
   "codemirror_mode": {
    "name": "ipython",
    "version": 3
   },
   "file_extension": ".py",
   "mimetype": "text/x-python",
   "name": "python",
   "nbconvert_exporter": "python",
   "pygments_lexer": "ipython3",
   "version": "3.8.11"
  }
 },
 "nbformat": 4,
 "nbformat_minor": 5
}
