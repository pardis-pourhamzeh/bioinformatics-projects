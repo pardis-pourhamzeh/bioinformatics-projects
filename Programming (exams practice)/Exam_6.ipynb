{
 "cells": [
  {
   "cell_type": "markdown",
   "id": "4994d571-6bce-4b96-ad25-aa7fa970c2e7",
   "metadata": {},
   "source": [
    "### Exam 8th June 2023"
   ]
  },
  {
   "cell_type": "markdown",
   "id": "7d814e65-315e-4640-a9d6-3029bec99cf0",
   "metadata": {},
   "source": [
    "A holding of gyms requires implementing a simple management system for its admissions, written in Python."
   ]
  },
  {
   "cell_type": "markdown",
   "id": "9dd11d7c-9fe9-4c9e-81dc-45b8635fcea1",
   "metadata": {},
   "source": [
    "##### Ex 1\n",
    "Write the code to handle a class Admission. Each admission has a person-name, date, and a paid fee in Euros.\n",
    "Then, write the code for a class Gym, whose constructor sets a name, an address, a list of Admissions, and an empty dictionary of lists of paid fees - divided by season (‘winter’, ‘spring’, ‘summer’, and ‘autumn’). Implement the method *add_admissions*, which allows us to add many admissions altogether and then updates the seasons' dictionary accordingly."
   ]
  },
  {
   "cell_type": "code",
   "execution_count": 112,
   "id": "5cfd9918b746376c",
   "metadata": {
    "ExecuteTime": {
     "end_time": "2025-06-22T19:34:11.278063Z",
     "start_time": "2025-06-22T19:34:11.262700Z"
    }
   },
   "outputs": [],
   "source": [
    "from datetime import datetime\n",
    "def extract_season(date):\n",
    "    datetime.strptime(date, '%Y-%m-%d')\n",
    "    check= date[5:]\n",
    "    if check>='12-22' or check<'03-21':\n",
    "        return 'winter'\n",
    "    elif check>='03-21' and check<'06-21':\n",
    "        return 'spring'\n",
    "    elif check>='06-21' and check<'09-23':\n",
    "        return 'summer'\n",
    "    elif check>='09-23'and check<'12-22':\n",
    "        return 'autumn'\n",
    "\n",
    "\n",
    "class Admission:\n",
    "    def __init__(self, name, date,fee):\n",
    "        self.person_name= name\n",
    "        self.date=date\n",
    "        self.paid_fee= fee\n",
    "    def __str__(self):\n",
    "        return f'{self.person_name}, {self.date}, {self.paid_fee}'\n",
    "\n",
    "class Gym:\n",
    "    def __init__(self, name, address):\n",
    "        self.name= name\n",
    "        self.address=address\n",
    "        self.admission_list=[]\n",
    "        self.season_dict={'winter':[], 'spring':[], 'summer':[], 'autumn':[]}\n",
    "\n",
    "    def __str__(self):\n",
    "        return f'{self.name}, {self.address}, {self.admission_list}, {self.season_dict}'\n",
    "\n",
    "    def __iter__(self):\n",
    "        return iter(self.admission_list)\n",
    "\n",
    "    def add_admissions(self, admission:list):\n",
    "        self.admission_list.extend(admission)\n",
    "        for ad in admission:\n",
    "            season= extract_season(ad.date)\n",
    "            self.season_dict[season].append(ad.paid_fee)\n",
    "\n",
    "\n",
    "\n",
    "\n",
    "\n"
   ]
  },
  {
   "cell_type": "code",
   "execution_count": 108,
   "id": "f8af81a60a4750ce",
   "metadata": {
    "ExecuteTime": {
     "end_time": "2025-06-22T19:30:38.097098Z",
     "start_time": "2025-06-22T19:30:38.092953Z"
    }
   },
   "outputs": [
    {
     "name": "stdout",
     "output_type": "stream",
     "text": [
      "winter\n"
     ]
    }
   ],
   "source": [
    "a=extract_season('2023-03-01')\n",
    "print(a)"
   ]
  },
  {
   "cell_type": "markdown",
   "id": "81ec0358-e623-4db6-b6fa-4db03517b1ce",
   "metadata": {},
   "source": [
    "##### Ex 2\n",
    "Different Gyms can be gathered under the umbrella of a SuperGym that includes them. Write the code for the\n",
    "SuperGym class, which has a name and a list of the included Gyms (**inserted at construction-time**, i.e., at the time when a new SuperGym instance is created). Moreover, it saves a list of lists of admissions of the Gyms."
   ]
  },
  {
   "cell_type": "code",
   "execution_count": 117,
   "id": "6fa24ac739903467",
   "metadata": {
    "ExecuteTime": {
     "end_time": "2025-06-22T19:35:40.677105Z",
     "start_time": "2025-06-22T19:35:40.664951Z"
    }
   },
   "outputs": [],
   "source": [
    "class SuperGym:\n",
    "    def __init__(self, name,gyms:list):\n",
    "        self.name= name\n",
    "        self.gyms=gyms\n",
    "        self.admissions_lists=[gym.admission_list for gym in self.gyms]\n",
    "        self.sg_season_fees= self.merge_season_dict()\n",
    "        self.sg_tot_revenue= self.tot_revenue( [[ad.paid_fee for ad in  gym.admission_list] for gym in self.gyms])\n",
    "\n",
    "    def __str__(self):\n",
    "        return f'{self.name}, {self.gyms}, {self.admissions_lists}'\n",
    "\n",
    "    def merge_season_dict(self):\n",
    "        superseason_dict={}\n",
    "        for gym in self.gyms:\n",
    "            for ky,vl in gym.season_dict.items():\n",
    "                if ky not in superseason_dict:\n",
    "                    superseason_dict[ky]=vl\n",
    "                else:\n",
    "                    superseason_dict[ky].extend(vl)\n",
    "        return superseason_dict\n",
    "\n",
    "\n",
    "    def tot_revenue(self, lsofls:list):\n",
    "        #sums =sum([int(ad.paid_fee)for gym in self.gyms for ad in  gym.admission_list])\n",
    "        sums=sum([int(col) for row in lsofls for col in  row])\n",
    "        return sums\n",
    "\n",
    "    def print_report(self):\n",
    "          with open('supergym.tsv', 'w') as f:\n",
    "             ad_lists= '\\n'.join([str(ad) for gym in self.gyms for ad in gym.admission_list])\n",
    "             sup_dict= str(self.sg_season_fees)\n",
    "             mx={key:max(vl) for key, vl in self.sg_season_fees.items() if len(vl)>0}\n",
    "             mx=f'the max paid fee overall: {max(mx.values())}'\n",
    "             f.write(f'{ad_lists}\\n{sup_dict}\\n{mx}\\n')\n",
    "\n"
   ]
  },
  {
   "cell_type": "markdown",
   "id": "8cc2b63c-4969-49bf-83f3-8cd5680111d6",
   "metadata": {},
   "source": [
    "##### Ex 3\n",
    "In the main code, build two different Gym objects. Fill them with some example Admissions. Then, create a\n",
    "SuperGym that includes the existing Gyms."
   ]
  },
  {
   "cell_type": "code",
   "execution_count": 120,
   "id": "3725b37a658ec5f9",
   "metadata": {
    "ExecuteTime": {
     "end_time": "2025-06-22T19:36:00.503849Z",
     "start_time": "2025-06-22T19:36:00.496702Z"
    }
   },
   "outputs": [],
   "source": [
    "a1 = Admission('anna','2023-03-01',10)\n",
    "a2 = Admission('marco','2023-11-03',12)\n",
    "g1 = Gym('Bacone','Via plinio')\n",
    "g1.add_admissions([a1,a2])\n",
    "\n",
    "a3 = Admission('laura','2023-01-31',11)\n",
    "a4 = Admission('laura','2023-07-31',8)\n",
    "a5 = Admission('laura','2023-08-31',5)\n",
    "a6 = Admission('marco','2023-12-03',13)\n",
    "g2 = Gym('XXXX','Via plinio')\n",
    "g2.add_admissions([a3,a4,a5,a6])\n",
    "\n",
    "s = SuperGym('mega',[g1,g2])\n",
    "\n",
    "s.print_report()\n"
   ]
  },
  {
   "cell_type": "code",
   "execution_count": 121,
   "id": "fea836fca967750",
   "metadata": {
    "ExecuteTime": {
     "end_time": "2025-06-22T19:36:06.843571Z",
     "start_time": "2025-06-22T19:36:06.837827Z"
    }
   },
   "outputs": [],
   "source": [
    "admission1= Admission('Alice', '2024-05-13', 120)\n",
    "admission2= Admission('Bob', '2024-01-13', 170)\n",
    "admission3 =Admission('Carol', '2024-12-13', 180)\n",
    "admission4= Admission('Chris', '2022-08-13', 180)\n",
    "gym1=Gym('2Fit', 'Via Mezzore')\n",
    "gym2=Gym('Fit Camp', 'Via Sansiro')\n",
    "gym1.add_admissions([admission1,admission2])\n",
    "gym2.add_admissions([admission3,admission4])\n",
    "supergym=SuperGym('Milano campus',[gym1,gym2])\n",
    "\n",
    "supergym.print_report()"
   ]
  },
  {
   "cell_type": "markdown",
   "id": "985de252-feeb-4416-9800-a1b4b5cea760",
   "metadata": {},
   "source": [
    "##### Ex 4\n",
    "Implement the method *merge_season_dict* of SuperGym, which builds a new seasons-dictionary, starting\n",
    "from the dictionaries of the different Gyms contained in the SuperGym, in such a way that each season list will\n",
    "contain all the paid fees, without distinction of their gym of provenance.\n",
    "\n",
    "**Note**: this method should be called inside the constructor of SuperGym, i.e., to set the value of the attribute *sg_season_fees*."
   ]
  },
  {
   "cell_type": "markdown",
   "id": "04fcffbc-458b-487e-911e-268f424f781f",
   "metadata": {},
   "source": [
    "##### Ex 5\n",
    "Implement the method *tot_revenue* of SuperGym, which calculates the total revenue of the SuperGym, taking in input the list of lists of paid fees for each admission.\n",
    "\n",
    "**Note**: this method should be called inside the constructor of SuperGym, i.e., setting the value of the attribute *sg_tot_revenue*."
   ]
  },
  {
   "cell_type": "markdown",
   "id": "3fe47e36-53ff-4204-bc7d-7138f3ffa751",
   "metadata": {},
   "source": [
    "##### EX 6\n",
    "Implement the method print_report of SuperGym, which prints the report of a SuperGym instance in the text\n",
    "file “supergym.tsv”, where the list of admissions of its first Gym is printed, then the list of admissions of its second\n",
    "Gym… and so on, for each Gym included in the SuperGym. At the end, it also prints:\n",
    "\n",
    "a) the season fees dictionary (computed in exercise 4)\n",
    "\n",
    "b) the max value of the season fees dictionary (i.e., the max paid fee overall)"
   ]
  },
  {
   "cell_type": "markdown",
   "id": "c5b886a2-0e81-4438-ad49-83ca4d38c975",
   "metadata": {},
   "source": [
    "##### EX 7\n",
    "In the main code, draw four boxplots in one figure, representing the paid fees of each separate season for the\n",
    "SuperGym you instantiated. Labels on the x-axis are the four seasons."
   ]
  },
  {
   "cell_type": "code",
   "execution_count": 124,
   "id": "f4775d26153ad00a",
   "metadata": {
    "ExecuteTime": {
     "end_time": "2025-06-22T19:37:12.259150Z",
     "start_time": "2025-06-22T19:37:12.186447Z"
    }
   },
   "outputs": [
    {
     "data": {
      "image/png": "[encoded data removed]",
      "text/plain": [
       "<Figure size 640x480 with 1 Axes>"
      ]
     },
     "metadata": {},
     "output_type": "display_data"
    }
   ],
   "source": [
    "import matplotlib.pyplot as plt\n",
    "x=[ky for ky in s.sg_season_fees.keys()]\n",
    "y=[vl for vl in s.sg_season_fees.values()]\n",
    "plt.boxplot(y)\n",
    "plt.xticks([1,2,3,4],x,rotation=90)\n",
    "plt.title('paid fees in each season')\n",
    "plt.ylabel('paid fees')\n",
    "plt.xlabel('season')\n",
    "plt.show()\n"
   ]
  },
  {
   "cell_type": "code",
   "execution_count": 39,
   "id": "c3138337-9d76-499c-876a-9122dd77ba56",
   "metadata": {
    "ExecuteTime": {
     "end_time": "2025-06-22T18:13:59.876281Z",
     "start_time": "2025-06-22T18:13:59.782547Z"
    }
   },
   "outputs": [
    {
     "data": {
      "image/png": "[encoded data removed]",
      "text/plain": [
       "<Figure size 640x480 with 1 Axes>"
      ]
     },
     "metadata": {},
     "output_type": "display_data"
    }
   ],
   "source": [
    "class Admission:\n",
    "    def __init__(self,name,date,paidfee):\n",
    "        self.name = name\n",
    "        self.date = date\n",
    "        self.fee = paidfee\n",
    "class Gym:\n",
    "    def __init__(self,nameg,address):\n",
    "        self.nameg = nameg\n",
    "        self.address = address\n",
    "        self.list_adm = []\n",
    "        self.d_seasonfees = {'winter':[],'autumn':[],'spring':[],'summer':[]}\n",
    "        \n",
    "    def add_admissions(self,ads):\n",
    "        ##self.list_adm += ads\n",
    "        self.list_adm.extend(ads)\n",
    "        for a in ads:\n",
    "            date = a.date[5:]\n",
    "            if date > \"03-21\" and date <= \"06-21\":\n",
    "                self.d_seasonfees[\"spring\"].append(a.fee)\n",
    "            elif date >\"06-21\" and date <= \"09-23\":\n",
    "                self.d_seasonfees[\"summer\"].append(a.fee)\n",
    "            elif date >\"09-23\" and date <= \"12-21\":\n",
    "                self.d_seasonfees[\"autumn\"].append(a.fee)\n",
    "            else:\n",
    "                self.d_seasonfees[\"winter\"].append(a.fee)\n",
    "                \n",
    "class SuperGym:\n",
    "    def __init__(self,name,listgyms):\n",
    "        self.name = name\n",
    "        self.list_gyms = listgyms\n",
    "        self.ll_adms = []\n",
    "        for gym in self.list_gyms:\n",
    "            self.ll_adms.append(gym.list_adm)\n",
    "        self.sg_season_fees = self.merge_season_dict()\n",
    "        llpf = [[adm.fee for adm in list_adms] for list_adms in self.ll_adms] \n",
    "        self.sg_tot_revenue = self.tot_revenue(llpf)\n",
    "            \n",
    "    def merge_season_dict(self):\n",
    "        new_dict = {\"winter\":[],\"summer\":[],\"spring\":[],\"autumn\":[]}\n",
    "        for gym in self.list_gyms:\n",
    "            for season,fees in gym.d_seasonfees.items():\n",
    "                new_dict[season].extend(fees)\n",
    "        return new_dict\n",
    "    \n",
    "    def tot_revenue(self,llp): \n",
    "        return sum([sum(sl) for sl in llp])   \n",
    "            \n",
    "    def print_report(self):        \n",
    "        with open('supergym.tsv','w') as f:\n",
    "            for g in self.list_gyms:\n",
    "                adm_string = '\\n'.join([adm.name+','+adm.date+','+str(adm.fee) for adm in g.list_adm])\n",
    "                f.write(f'\\n{g.nameg}:\\n{adm_string}')\n",
    "            f.write(f'\\nSum of paid fees: {self.tot_revenue}\\n')\n",
    "            f.write(f'Merged seasonal dict: {self.sg_season_fees}\\n')\n",
    "            f.write(f'Max of merged seasonal dict: {max([max(fees) for fees in self.sg_season_fees.values() if len(fees)>0])}\\n')\n",
    "\n",
    "\n",
    "a1 = Admission('anna','2023-03-01',10)\n",
    "a2 = Admission('marco','2023-11-03',12)\n",
    "g1 = Gym('Bacone','Via plinio')\n",
    "g1.add_admissions([a1,a2])\n",
    "\n",
    "a3 = Admission('laura','2023-01-31',11)\n",
    "a4 = Admission('laura','2023-07-31',8)\n",
    "a5 = Admission('laura','2023-08-31',5)\n",
    "a6 = Admission('marco','2023-12-03',13)\n",
    "g2 = Gym('XXXX','Via plinio')\n",
    "g2.add_admissions([a3,a4,a5,a6])\n",
    "\n",
    "s = SuperGym('mega',[g1,g2])\n",
    "\n",
    "s.print_report()\n",
    "\n",
    "######ex7\n",
    "import matplotlib.pyplot as plt\n",
    "plt.boxplot([s.sg_season_fees[season] for season in s.sg_season_fees.keys()])\n",
    "plt.xticks([1,2,3,4],[season for season in s.sg_season_fees.keys()])\n",
    "plt.show()"
   ]
  },
  {
   "cell_type": "code",
   "execution_count": 7,
   "id": "85e7311e-7849-485a-842e-758d83639778",
   "metadata": {},
   "outputs": [
    {
     "name": "stdout",
     "output_type": "stream",
     "text": [
      "<class 'list'> [1, 2, 3, 1, 2, 4]\n",
      "<class 'NoneType'> None\n",
      "<class 'list'> [1, 2, 3, 1, 2, 4]\n",
      "<class 'NoneType'> None\n",
      "<class 'list'> [1, 2, 3, 1, 2, 4, [1, 2, 4]]\n"
     ]
    }
   ],
   "source": [
    "|#note on lists\n",
    "\n",
    "l1 = [1,2,3]\n",
    "l2 = [1,2,4]\n",
    "l3 = l1+l2\n",
    "l4 = l1.extend(l2)\n",
    "print(type(l3),l3)\n",
    "print(type(l4),l4)\n",
    "print(type(l1),l1)\n",
    "l5 = l1.append(l2)\n",
    "print(type(l5),l5)\n",
    "print(type(l1),l1)"
   ]
  }
 ],
 "metadata": {
  "kernelspec": {
   "display_name": "Python 3",
   "language": "python",
   "name": "python3"
  },
  "language_info": {
   "codemirror_mode": {
    "name": "ipython",
    "version": 3
   },
   "file_extension": ".py",
   "mimetype": "text/x-python",
   "name": "python",
   "nbconvert_exporter": "python",
   "pygments_lexer": "ipython3",
   "version": "3.8.11"
  }
 },
 "nbformat": 4,
 "nbformat_minor": 5
}
