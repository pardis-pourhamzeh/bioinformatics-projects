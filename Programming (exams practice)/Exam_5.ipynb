{
 "cells": [
  {
   "metadata": {},
   "cell_type": "markdown",
   "source": [
    "Consider vd, a dictionary of dictionaries of viral sequence information, with this structure:\n",
    "\n",
    "`vd = {\n",
    "\"Seq1\": {\"Host\": \"human\",\"Country\": \"Italy\", \"CollectionDate\": \"2022-03-01\", \"ListOfMutations\": \"A,B,C,D,E\", },\n",
    "\"Seq2\": {\"Host\": \"human\", \"Country\": \"Italy\", \"CollectionDate\": \"2023-03-01\", \"ListOfMutations\": \"A,B,C,D\"},\n",
    "\"Seq3\": {\"Host\": \"human\", \"Country\": \"France\", \"CollectionDate\": \"2022-03-01\", \"ListOfMutations\": \"A,B,C,E,X,Y,Z\"},\n",
    "\"Seq4\": {\"Host\": \"mouse\", \"Country\": \"Italy\", \"CollectionDate\": \"2023-04-01\", \"ListOfMutations\": \"A,D,E\"}}`\n",
    "\n",
    "### 1) [5pts]\n",
    "Write a Python code that computes and prints the all the distinct mutations (i.e., letters) that are present in at least one sequence of vd. Note\n",
    "that the value corresponding to the ListOfMutations key in the dictionary is provided as a string."
   ],
   "id": "cb8ca92ddc7e7b4"
  },
  {
   "metadata": {
    "ExecuteTime": {
     "end_time": "2025-06-22T01:09:30.926167Z",
     "start_time": "2025-06-22T01:09:30.920186Z"
    }
   },
   "cell_type": "code",
   "source": [
    "import time\n",
    "from curses.ascii import isdigit\n",
    "\n",
    "vd = {\"Seq1\": {\"Host\": \"human\",\"Country\": \"Italy\", \"CollectionDate\": \"2022-03-01\", \"ListOfMutations\": \"A,B,C,D,E\", },\n",
    "\"Seq2\": {\"Host\": \"human\", \"Country\": \"Italy\", \"CollectionDate\": \"2023-03-01\", \"ListOfMutations\": \"A,B,C,D\"},\n",
    "\"Seq3\": {\"Host\": \"human\", \"Country\": \"France\", \"CollectionDate\": \"2022-03-01\", \"ListOfMutations\": \"A,B,C,E,X,Y,Z\"},\n",
    "\"Seq4\": {\"Host\": \"mouse\", \"Country\": \"Italy\", \"CollectionDate\": \"2023-04-01\", \"ListOfMutations\": \"A,D,E\"}}\n",
    "\n",
    "new=','.join([vl['ListOfMutations'] for ky,vl in vd.items()])\n",
    "new=new.split(',')\n",
    "print(set(new))\n",
    "\n",
    "# Or the other way\n",
    "\n",
    "total_list= [vl[\"ListOfMutations\"].split(',')for ky,vl in vd.items()]\n",
    "total_list=[''.join(lis) for lis in total_list]\n",
    "total_list=''.join(total_list)\n",
    "distinct_mutation=set(total_list)\n",
    "print(distinct_mutation)\n",
    "\n",
    "\n",
    "#Or GPT suggested\n",
    "mutations = {m for v in vd.values() for m in v['ListOfMutations'].split(',')}\n",
    "print(mutations)\n",
    "\n"
   ],
   "id": "48be5738b50d1375",
   "outputs": [
    {
     "name": "stdout",
     "output_type": "stream",
     "text": [
      "{'B', 'X', 'E', 'Y', 'C', 'D', 'A', 'Z'}\n",
      "{'B', 'X', 'E', 'Y', 'C', 'D', 'A', 'Z'}\n",
      "{'B', 'X', 'E', 'Y', 'C', 'D', 'A', 'Z'}\n"
     ]
    }
   ],
   "execution_count": 102
  },
  {
   "metadata": {},
   "cell_type": "markdown",
   "source": [
    "### 2) [4pts]\n",
    " Consider a file where viral lineages are defined in terms of lists of mutations. The file lineage_characterization.tsv has the following structure:\n",
    " each line has the name of a lineage, separated with a tab from a comma-separated list of mutations. Write a Python code that parses the file and\n",
    " stores its content into a dictionary lc, where a key is a lineage (e.g., ‘L4’) and a value is a list of mutations (e.g., [‘B’,‘C’,‘D’]).\n",
    "  Example:\n",
    "`L4 B,C,D\n",
    "L2 B,C,D,E\n",
    "L1 A,B,C\n",
    "L3 G,H,J`"
   ],
   "id": "12f3776efdd93e60"
  },
  {
   "metadata": {
    "ExecuteTime": {
     "end_time": "2025-06-22T00:49:12.917137Z",
     "start_time": "2025-06-22T00:49:12.910694Z"
    }
   },
   "cell_type": "code",
   "source": [
    "\n",
    "with open('lineage_characterization.tsv', 'w') as f:\n",
    "    content= f'L4\\tB,C,D\\nL2\\tB,C,D,E\\nL1\\tA,B,C\\nL3\\tG,H,J\\n'\n",
    "    f.write(content)\n",
    "\n",
    "with open('lineage_characterization.tsv', 'r') as f:\n",
    "     list_pair=[line.strip().split('\\t') for line in f]\n",
    "     lc={line[0]: line[1].split(',') for line in list_pair}\n",
    "print(lc)\n",
    "\n",
    "\n"
   ],
   "id": "31a2a0791063f9aa",
   "outputs": [
    {
     "name": "stdout",
     "output_type": "stream",
     "text": [
      "{'L4': ['B', 'C', 'D'], 'L2': ['B', 'C', 'D', 'E'], 'L1': ['A', 'B', 'C'], 'L3': ['G', 'H', 'J']}\n"
     ]
    }
   ],
   "execution_count": 98
  },
  {
   "metadata": {},
   "cell_type": "markdown",
   "source": [
    "### 3) [7pts]\n",
    " Implement the assignToLineage function, which takes in input a list of mutations and returns the lineage (stored in the dictionary lc created in Ex.\n",
    " that is closest to the input list. The lineages with the minimum distance must be returned. In case of ties, it is enough to return one lineage among the possible ones.\n",
    " Example: The input sequence has mutations A,B,C,D\n",
    "\n",
    "- Its distance with L1 is 1: from ABCD to ABC, we lose one element (+1)\n",
    "-\n",
    "- Its distance with L2 is 2: from ABCD to BCDE we lost A (+1) and added E (+1)\n",
    "-\n",
    "- Its distance with L3 is 7 (from ABCD to GHJ we lost four letters (+4) and added three new ones (+3)\n",
    "\n",
    "In this case, the returned lineage is L1 (because it has distance 1 from ABCD and 1 is the minimum among 1, 2 and 7).\n",
    "\n",
    "Hint 1: The distance can be conveniently computed using set-oriented functions.\n",
    "\n",
    "Hint 2: Auxiliary functions (as usual) may be used. It may be useful to implement an auxiliary function distance that returns an integer value, called within assignToLineage."
   ],
   "id": "1d1d411505a596c5"
  },
  {
   "metadata": {
    "ExecuteTime": {
     "end_time": "2025-06-21T22:42:23.333166Z",
     "start_time": "2025-06-21T22:42:23.322513Z"
    }
   },
   "cell_type": "code",
   "source": [
    "#Or define this function and use it or directly\n",
    "def dist(ls1,ls2):\n",
    "       set1=set(ls1)\n",
    "       set2=set(ls2)\n",
    "       return len(set1.symmetric_difference(set2))\n",
    "\n",
    "\n",
    "def assignToLineage(mut:list):\n",
    "    #mut=set(mut)\n",
    "    #len(set(ref).symmetric_difference(mut))\n",
    "    distance={lin: dist(mut,ref) for lin,ref in lc.items()}\n",
    "    min_distance=min(distance.values())\n",
    "    for lin,dis in distance.items():\n",
    "        if dis==min_distance:\n",
    "            return lin\n",
    "\n",
    "\n",
    "assignToLineage(['A','B','C','D'])\n",
    "\n"
   ],
   "id": "2bf0e69977b8c7f8",
   "outputs": [
    {
     "data": {
      "text/plain": [
       "'L4'"
      ]
     },
     "execution_count": 52,
     "metadata": {},
     "output_type": "execute_result"
    }
   ],
   "execution_count": 52
  },
  {
   "metadata": {},
   "cell_type": "markdown",
   "source": [
    "### 4) [3pts]\n",
    " Add to each sequence of the vd dictionary a key-value pair that stores the “Lineage”. Its value is the closest Lineage possible, as calculated by the\n",
    " assignToLineage function."
   ],
   "id": "d2097e1783ad0384"
  },
  {
   "metadata": {
    "ExecuteTime": {
     "end_time": "2025-06-22T01:09:37.204338Z",
     "start_time": "2025-06-22T01:09:37.199995Z"
    }
   },
   "cell_type": "code",
   "source": [
    "import copy\n",
    "vd_v= copy.deepcopy(vd)\n",
    "for vl in vd_v.values():\n",
    "    vl['Lineage']=assignToLineage(vl['ListOfMutations'].split(','))"
   ],
   "id": "f8fcdb831a0688ea",
   "outputs": [],
   "execution_count": 103
  },
  {
   "metadata": {},
   "cell_type": "markdown",
   "source": [
    "### 6) [7pts]\n",
    "Sketch the basic infrastructure to handle this scenario with classes: Sequences are represented by a class. A sequence has a sequence_id, a collection_date,\n",
    " and a list of mutations. Directly in the constructor insert a syntactic check on the date format, which should be ‘yyyy-mm-dd’, else an appropriate\n",
    " exception is thrown.\n",
    "Datasets contain a set of sequences and a counter of original_sequences contained in the set (i.e., those that have up to 2 mutations). They have a method\n",
    "o insert a new sequence, that checks that there does not exist a sequence with the same id (else, it raises an exception) and updates the original_sequences\n",
    " counter."
   ],
   "id": "4106a41347308e54"
  },
  {
   "metadata": {
    "ExecuteTime": {
     "end_time": "2025-06-22T12:20:26.746453Z",
     "start_time": "2025-06-22T12:20:26.712160Z"
    }
   },
   "cell_type": "code",
   "source": [
    "class NoDouplicate(Exception):\n",
    "    def __init__(self, msg):\n",
    "        self.msg = msg\n",
    "    def __str__(self):\n",
    "        return self.msg\n",
    "\n",
    "class Sequence:\n",
    "    def __init__(self,id,date,mutlist):\n",
    "        # check the other versions down below\n",
    "        check=[]\n",
    "        for part in [date[:4],date[5:7],date[8:]]:\n",
    "            if part.isdigit():\n",
    "                check.append(part)\n",
    "        if '-'.join(check)== date:\n",
    "            self.collection_date=date\n",
    "        else:\n",
    "                raise ValueError ('Date must be in yyyy-mm-dd format')\n",
    "        self.id=id\n",
    "        self.mutlist=mutlist\n",
    "\n",
    "    def __iter__(self):\n",
    "        return iter(self.mutlist)\n",
    "    def __str__(self):\n",
    "        return self.id\n",
    "\n",
    "\n",
    "class Datasets:\n",
    "    def __init__(self):\n",
    "        self.set=set([])\n",
    "        self.original_sequences=0\n",
    "\n",
    "    def addSequence(self,seq:Sequence):\n",
    "        if seq.id not in [s.id for s in self.set]:\n",
    "            self.set.add(seq)\n",
    "            if len(seq.mutlist) <=2:\n",
    "                self.original_sequences +=1\n",
    "        else:\n",
    "            raise NoDouplicate ('the inserted sequence is already in the set')\n",
    "\n",
    "\n"
   ],
   "id": "aa5d1d8bc1fb4ee6",
   "outputs": [],
   "execution_count": 136
  },
  {
   "metadata": {},
   "cell_type": "code",
   "outputs": [],
   "execution_count": null,
   "source": [
    "# GPT recommended version\n",
    "from datetime import datetime\n",
    "try:\n",
    "    datetime.strptime(date, '%y-%m-%d')\n",
    "except ValueError as e:\n",
    "    print(e)\n",
    "self.collection_date=date"
   ],
   "id": "63c2260b786778e2"
  },
  {
   "metadata": {},
   "cell_type": "code",
   "outputs": [],
   "execution_count": null,
   "source": [
    "#The other version that's compact\n",
    "if len(date) == 10 and date[4] == '-' and date[7] == '-' and all(part.isdigit() for part in [date[:4], date[5:7], date[8:]]):\n",
    "    self.collection_date = date\n",
    "else:\n",
    "    raise FormatError('Date must be in yyyy-mm-dd format')\n",
    "\n"
   ],
   "id": "a426d0726a1a5b9e"
  }
 ],
 "metadata": {
  "kernelspec": {
   "display_name": "Python 3",
   "language": "python",
   "name": "python3"
  },
  "language_info": {
   "codemirror_mode": {
    "name": "ipython",
    "version": 2
   },
   "file_extension": ".py",
   "mimetype": "text/x-python",
   "name": "python",
   "nbconvert_exporter": "python",
   "pygments_lexer": "ipython2",
   "version": "2.7.6"
  }
 },
 "nbformat": 4,
 "nbformat_minor": 5
}
