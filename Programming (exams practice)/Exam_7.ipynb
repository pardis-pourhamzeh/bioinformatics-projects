{
 "cells": [
  {
   "metadata": {},
   "cell_type": "markdown",
   "source": [
    "PoliLib has a very old system to store its information. Every time that a book is borrowed, a librarian manually fills a new line of a text file borrowed_books.txt, writing a comma-separated string that contains four fields.\n",
    "\n",
    "The schema is: book_title, first_name, last_name, borrow_date. Only when the book is returned, the librarian finds the related line in the file and adds one field that contains the return_date.\n",
    "\n",
    "Example:\n",
    "\n",
    "`The old man and the sea, Mario, De Rossi, 10-04-2023, 17-04-2023 `\n",
    "\n",
    "`The old man and the sea, Alice, Bianchi, 20-04-2023, 27-04-2023 `\n",
    "\n",
    "`Gulliver's Travels, Mario, De Rossi, 30-04-2023`\n",
    "\n",
    "`Divina Commedia, Laura, Verdi Chiari, 26-04-2023, 01-05-2023 `\n",
    "\n",
    "`Divina Commedia, Michael, Zu, 02-05-2023`\n",
    "\n",
    "`The old man and the sea, Michael, Zu, 02-05-2023, 07-05-2023`\n",
    "\n",
    "For simplicity, we here make the assumption that in PoliLib there does not exist more than one book with a given title, and that titles/first\n",
    "names/last names do not contain commas.\n",
    "#### 1) [5pts]\n",
    " Write a Python code that acquires the information from the file borrowed_books.txt and stores it within a dictionary where keys are titles and values are lists of lists (each with first name, last name, borrow date, return date if available, else a None value)."
   ],
   "id": "23fee3a98c2d68a5"
  },
  {
   "metadata": {
    "ExecuteTime": {
     "end_time": "2025-06-24T18:43:32.424048Z",
     "start_time": "2025-06-24T18:43:32.397624Z"
    }
   },
   "cell_type": "code",
   "source": [
    "\n",
    "\n",
    "with open('borrowed_books.txt', 'w') as file:\n",
    "    content=(f\"The old man and the sea, Mario, De Rossi, 10-04-2023, 17-04-2023\\n The old man and the sea, Alice, Bianchi, 20-04-2023,27-04-2023\\n Gulliver's Travels, Mario, De Rossi, 30-04-2023\\n Divina Commedia,Laura, Verdi Chiari, 26-04-2023, 01-05-2023\\n Divina Commedia, Michael, Zu, 02-05-2023\\n The old man and the sea, Michael, Zu, 02-05-2023, 07-05-2023\\n\")\n",
    "    file.write(content)\n",
    "\n",
    "\n",
    "\n",
    "with open('borrowed_books.txt', 'r') as f:\n",
    "    total_list= [line.strip().split(',') for line in f ]\n",
    "    total_list=[[element.strip() for element in line]for line in total_list ]\n",
    "    poli_dection={}\n",
    "    for line in total_list:\n",
    "        if len(line)<5:\n",
    "            line.append(None)\n",
    "    for line in total_list:\n",
    "        if line[0] not in poli_dection:\n",
    "            poli_dection[line[0]]=[line[1:]]\n",
    "        else:\n",
    "            poli_dection[line[0]].append(line[1:])\n",
    "\n",
    "poli_dection"
   ],
   "id": "14fb7e3f1731b2db",
   "outputs": [
    {
     "data": {
      "text/plain": [
       "{'The old man and the sea': [['Mario', 'De Rossi', '10-04-2023', '17-04-2023'],\n",
       "  ['Alice', 'Bianchi', '20-04-2023', '27-04-2023'],\n",
       "  ['Michael', 'Zu', '02-05-2023', '07-05-2023']],\n",
       " \"Gulliver's Travels\": [['Mario', 'De Rossi', '30-04-2023', None]],\n",
       " 'Divina Commedia': [['Laura', 'Verdi Chiari', '26-04-2023', '01-05-2023'],\n",
       "  ['Michael', 'Zu', '02-05-2023', None]]}"
      ]
     },
     "execution_count": 2,
     "metadata": {},
     "output_type": "execute_result"
    }
   ],
   "execution_count": 2
  },
  {
   "metadata": {},
   "cell_type": "markdown",
   "source": [
    "#### 2) [5pts]\n",
    " Write a Python function books_of_user that accepts a first name and last name as input, finds all the entries related to that person and returns them\n",
    " as a list of lists `<title>,<borrow_date>,<return_date>`."
   ],
   "id": "e0bb419d3ee2c43e"
  },
  {
   "metadata": {
    "ExecuteTime": {
     "end_time": "2025-06-23T12:33:19.792800Z",
     "start_time": "2025-06-23T12:33:19.786773Z"
    }
   },
   "cell_type": "code",
   "source": [
    "def book_of_user(name,last_name):\n",
    "    name=name.strip()\n",
    "    last_name=last_name.strip()\n",
    "    user_list=[]\n",
    "    for title, info in poli_dection.items():\n",
    "        for row in info:\n",
    "            if name in row and last_name in row:\n",
    "                user_list.append([title]+row[2:])\n",
    "    return user_list\n",
    "\n",
    "\n",
    "\n",
    "book_of_user(' Mario',' De Rossi')"
   ],
   "id": "6856330b2cd6f2d9",
   "outputs": [
    {
     "data": {
      "text/plain": [
       "[['The old man and the sea', '10-04-2023', '17-04-2023'],\n",
       " [\"Gulliver's Travels\", '30-04-2023', None]]"
      ]
     },
     "execution_count": 144,
     "metadata": {},
     "output_type": "execute_result"
    }
   ],
   "execution_count": 144
  },
  {
   "metadata": {},
   "cell_type": "markdown",
   "source": [
    "#### 3) [4pts]\n",
    "Write a Python function books_after that accepts a date as input and returns a list of the titles of all the books that were borrowed after that date\n",
    "and have not been returned yet."
   ],
   "id": "6e899b66e2a01632"
  },
  {
   "metadata": {
    "ExecuteTime": {
     "end_time": "2025-06-23T12:33:21.945264Z",
     "start_time": "2025-06-23T12:33:21.938655Z"
    }
   },
   "cell_type": "code",
   "source": [
    "from datetime import datetime\n",
    "\n",
    "def books_after(date):\n",
    "    try:\n",
    "        datetime.strptime(date, '%d-%m-%Y')\n",
    "        title_list=[ ky for ky,vl in poli_dection.items() for row in vl  if row[2]>date and row[3]==None ]\n",
    "        return title_list\n",
    "    except ValueError as e:\n",
    "        print(e)\n",
    "\n",
    "books_after('09-04-2021')\n"
   ],
   "id": "ec19950b5d577b91",
   "outputs": [
    {
     "data": {
      "text/plain": [
       "[\"Gulliver's Travels\"]"
      ]
     },
     "execution_count": 145,
     "metadata": {},
     "output_type": "execute_result"
    }
   ],
   "execution_count": 145
  },
  {
   "metadata": {},
   "cell_type": "markdown",
   "source": [
    "#### 4) [4pts]\n",
    "Write a Python function no_overbooking that accepts a title in input and checks that the corresponding book is not currently borrowed by more than one\n",
    "user, throwing an appropriate Exception. Solutions that use list comprehension are preferred."
   ],
   "id": "76dd6a85efa6538e"
  },
  {
   "metadata": {
    "ExecuteTime": {
     "end_time": "2025-06-23T12:33:24.319077Z",
     "start_time": "2025-06-23T12:33:24.312068Z"
    }
   },
   "cell_type": "code",
   "source": [
    "class OverBooked(Exception):\n",
    "    def __init__(self, message):\n",
    "        self.message = message\n",
    "    def __str__(self):\n",
    "        return self.message\n",
    "\n",
    "def no_overbooking(title):\n",
    "    check=[True for row in poli_dection[title] if row[3]==None]\n",
    "    if len(check)>1:\n",
    "        raise OverBooked ('book has been overbooked')\n",
    "    else:\n",
    "        return 'No overbooking occured'\n",
    "\n",
    "\n",
    "no_overbooking('Divina Commedia')\n"
   ],
   "id": "b8694d7a753287fc",
   "outputs": [
    {
     "data": {
      "text/plain": [
       "'No overbooking occured'"
      ]
     },
     "execution_count": 146,
     "metadata": {},
     "output_type": "execute_result"
    }
   ],
   "execution_count": 146
  },
  {
   "metadata": {},
   "cell_type": "markdown",
   "source": [
    "#### 5) [4pts]\n",
    " Write a Python function barplot_user_loans to draw a bar plot of the number of borrowed books per distinct user."
   ],
   "id": "420ede25410d39e"
  },
  {
   "metadata": {
    "ExecuteTime": {
     "end_time": "2025-06-23T12:49:38.469912Z",
     "start_time": "2025-06-23T12:49:38.349519Z"
    }
   },
   "cell_type": "code",
   "source": [
    "import matplotlib.pyplot as plt\n",
    "\n",
    "def barplot_user_loans():\n",
    "    distinct_users={f'{row[0]} {row[1]}':len(book_of_user(row[0],row[1])) for info in poli_dection.values() for row in info }\n",
    "    x= [ky for ky in distinct_users.keys()]\n",
    "    y= [vl for vl in distinct_users.values()]\n",
    "    plt.bar(x,y)\n",
    "    plt.title('user loans')\n",
    "    plt.xlabel('users')\n",
    "    plt.ylabel('loans')\n",
    "    plt.show()\n",
    "\n",
    "barplot_user_loans()\n"
   ],
   "id": "ad211c4a1fbe2242",
   "outputs": [
    {
     "data": {
      "text/plain": [
       "<Figure size 640x480 with 1 Axes>"
      ],
      "image/png": "[encoded data removed]"
     },
     "metadata": {},
     "output_type": "display_data"
    }
   ],
   "execution_count": 156
  },
  {
   "metadata": {},
   "cell_type": "markdown",
   "source": [
    "#### 7) [5pts]\n",
    "Describe and sketch how you could implement PoliLib has a Python class (and subordinate classes) with their methods. Use all the information in the\n",
    "intro and previous exercises to formulate a complete answer. What would be represented as a class? What methods would you add? Can you think of\n",
    "additional functionalities? Consider for example that the librarian could have made some errors when compiling the file or that there may be\n",
    "inconsistencies between reality and its representation in the system."
   ],
   "id": "5758beb370763437"
  },
  {
   "metadata": {},
   "cell_type": "markdown",
   "source": [
    "🧠 Extra Functionalities You Could Mention:\n",
    "\n",
    "`Method to return a book (set return date).`\n",
    "\n",
    "`Check for inconsistent dates (e.g., return before borrow).`\n",
    "\n",
    "Validate unique users or book titles.\n",
    "\n",
    "Method to list all currently borrowed books.\n",
    "\n",
    "Support for persistent storage (load/save).`"
   ],
   "id": "83baf108e03e740c"
  },
  {
   "metadata": {
    "ExecuteTime": {
     "end_time": "2025-06-24T19:05:36.028068Z",
     "start_time": "2025-06-24T19:05:36.012706Z"
    }
   },
   "cell_type": "code",
   "source": [
    "#GPT version\n",
    "from datetime import datetime\n",
    "\n",
    "class OverBooked(Exception):\n",
    "    pass\n",
    "\n",
    "class PoliLib:\n",
    "    def __init__(self):\n",
    "        # Dictionary: title → list of [first, last, borrow, return]\n",
    "        self.records = {}\n",
    "\n",
    "    def add_book_loan(self, title, first, last, borrow_date, return_date=None):\n",
    "        entry = [first, last, borrow_date, return_date]\n",
    "        if title in self.records:\n",
    "            self.records[title].append(entry)\n",
    "        else:\n",
    "            self.records[title] = [entry]\n",
    "\n",
    "    def books_after(self, date_str):\n",
    "        try:\n",
    "            ref_date = datetime.strptime(date_str, \"%d-%m-%Y\")\n",
    "        except ValueError:\n",
    "            print(\"Date must be in DD-MM-YYYY format\")\n",
    "            return []\n",
    "\n",
    "        result = []\n",
    "        for title, loans in self.records.items():\n",
    "            for loan in loans:\n",
    "                borrow_date = datetime.strptime(loan[2], \"%d-%m-%Y\")\n",
    "                if loan[3] is None and borrow_date > ref_date:\n",
    "                    result.append(title)\n",
    "        return result\n",
    "\n",
    "    def no_overbooking(self, title):\n",
    "        if title not in self.records:\n",
    "            return True  # No records = no overbooking\n",
    "        active_loans = [1 for loan in self.records[title] if loan[3] is None]\n",
    "        if len(active_loans) > 1:\n",
    "            raise OverBooked(f\"Book '{title}' is overbooked.\")\n",
    "        return True\n",
    "\n",
    "    def books_of_user(self, first, last):\n",
    "        result = []\n",
    "        for title, loans in self.records.items():\n",
    "            for loan in loans:\n",
    "                if loan[0] == first and loan[1] == last:\n",
    "                    result.append([title] + loan[2:])\n",
    "        return result\n",
    "\n",
    "    def load_from_file(self, path):\n",
    "        with open(path, 'r') as f:\n",
    "            for line in f:\n",
    "                parts = [p.strip() for p in line.strip().split(',')]\n",
    "                if len(parts) < 5:\n",
    "                    parts.append(None)\n",
    "                title, first, last, borrow, ret = parts\n",
    "                self.add_book_loan(title, first, last, borrow, ret)\n",
    "\n",
    "    def save_to_file(self, path):\n",
    "        with open(path, 'w') as f:\n",
    "            for title, loans in self.records.items():\n",
    "                for loan in loans:\n",
    "                    line = f\"{title}, {loan[0]}, {loan[1]}, {loan[2]}\"\n",
    "                    if loan[3]:\n",
    "                        line += f\", {loan[3]}\"\n",
    "                    f.write(line + '\\n')\n"
   ],
   "id": "3d67ca4c7d0b4f2b",
   "outputs": [],
   "execution_count": 5
  },
  {
   "metadata": {
    "ExecuteTime": {
     "end_time": "2025-06-23T11:17:55.814076Z",
     "start_time": "2025-06-23T11:17:55.805352Z"
    }
   },
   "cell_type": "code",
   "source": [
    "from datetime import datetime\n",
    "\n",
    "class PoliLib:\n",
    "    def __init__(self):\n",
    "        self.poli_dection={}\n",
    "\n",
    "    def add_book_loan(self,title,info:list):\n",
    "        if title in self.poli_dection:\n",
    "            self.poli_dection[title].append(info)\n",
    "        else:\n",
    "            self.poli_dection[title]=[info]\n",
    "\n",
    "\n",
    "    def books_after(self,date):\n",
    "         ref_time= datetime.strptime(date, '%A, %B %d, %Y')\n",
    "         title_list=[ ky for ky,vl in self.poli_dection.items() if datetime.strptime(vl[2],\"%d-%m-%Y\" )>ref_time and vl[3]==None ]\n",
    "         return title_list\n",
    "    def no_overbooking(self, title):\n",
    "        check=[True for i in range(len(self.poli_dection.values())) if poli_dection[title][i][3]==0]\n",
    "        if len(check)>1:\n",
    "            raise OverBooked ('book has been overbooked')\n",
    "\n"
   ],
   "id": "d7de08cc08a7ac66",
   "outputs": [],
   "execution_count": 56
  },
  {
   "metadata": {},
   "cell_type": "code",
   "outputs": [],
   "execution_count": null,
   "source": "",
   "id": "990f36f5993a4293"
  }
 ],
 "metadata": {
  "kernelspec": {
   "display_name": "Python 3",
   "language": "python",
   "name": "python3"
  },
  "language_info": {
   "codemirror_mode": {
    "name": "ipython",
    "version": 2
   },
   "file_extension": ".py",
   "mimetype": "text/x-python",
   "name": "python",
   "nbconvert_exporter": "python",
   "pygments_lexer": "ipython2",
   "version": "2.7.6"
  }
 },
 "nbformat": 4,
 "nbformat_minor": 5
}
