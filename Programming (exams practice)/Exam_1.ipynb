{
 "cells": [
  {
   "cell_type": "markdown",
   "id": "6e8137368cc8d3cb",
   "metadata": {},
   "source": [
    "Consider two lists of patients’ metabolic values, e.g.,:\n",
    "\n",
    "Albumine = [ (\"P1\", 3.4), (\"P2\", 4.9), (\"P3\", 3.8)]\n",
    "\n",
    "Calcium = [ (\"P2\", 9.0), (\"P3\", 8.5), (\"P4\", 11.0), (\"P5\", 12.7) ]\n",
    "\n",
    "Write a Python code that achieves the same result as a FULL OUTER JOIN operation on the two lists, using the first element of the pairs as join key. The result, in the considered example, should be a new list, such that:\n",
    "\n",
    "[('P1', 3.4, None), ('P2', 4.9, 9.0), ('P3', 3.8, 8.5), ('P4', None, 11.0), ('P5', None, 12.7)]\n",
    "\n",
    "Hint: as an intermediate data representation, it may be convenient to represent the lists as dictionaries.\n"
   ]
  },
  {
   "cell_type": "code",
   "execution_count": 139,
   "id": "c2d1fd586b369b30",
   "metadata": {
    "ExecuteTime": {
     "end_time": "2025-06-18T14:06:52.466757Z",
     "start_time": "2025-06-18T14:06:52.453860Z"
    }
   },
   "outputs": [
    {
     "name": "stdout",
     "output_type": "stream",
     "text": [
      "[('P1', 3.4, None), ('P2', 4.9, 9.0), ('P4', None, 11.0), ('P3', 3.8, 8.5), ('P5', None, 12.7)]\n"
     ]
    }
   ],
   "source": [
    "from PIL.features import check\n",
    "from fontTools.misc.plistlib import end_key\n",
    "\n",
    "albumine = [ (\"P1\", 3.4), (\"P2\", 4.9), (\"P3\", 3.8)]\n",
    "calcium = [ (\"P2\", 9.0), (\"P3\", 8.5), (\"P4\", 11.0), (\"P5\", 12.7) ]\n",
    "\n",
    "alb={t[0]:t[1] for t in albumine}\n",
    "cal={t[0]:t[1] for t in calcium}\n",
    "keys= set(cal.keys()).union(alb.keys())\n",
    "outpt= [(key,alb.get(key),cal.get(key) ) for key in keys]\n",
    "print(outpt)\n"
   ]
  },
  {
   "cell_type": "markdown",
   "id": "aa6986bf70a4cd0d",
   "metadata": {},
   "source": [
    "Epitopes are short amino acid sequences that are recognized by the immune system.\n",
    "\n",
    "Write a Python function epitopes_by_aminoacid that receives as input a list of epitopes (e.g., [\"KLPDD\",\"KIADY\",\"ELLH\",\"FELLHAPAT\"], and returns a dictionary whose keys are all the amino acids found in the epitopes of the list.\n",
    "\n",
    "For each key (i.e., amino acid), the corresponding value is a list of all the epitopes that contain the amino acid indicated by the key.\n",
    "The lists in the dictionary are sorted in alphabetical order. See the output for the indicated example on the right."
   ]
  },
  {
   "cell_type": "code",
   "execution_count": 168,
   "id": "71a22862e50b0270",
   "metadata": {
    "ExecuteTime": {
     "end_time": "2025-06-18T14:55:25.657503Z",
     "start_time": "2025-06-18T14:55:25.646992Z"
    }
   },
   "outputs": [
    {
     "data": {
      "text/plain": [
       "{'K': ['KLPDD', 'KIADY'],\n",
       " 'F': ['FELLHAPAT'],\n",
       " 'I': ['KIADY'],\n",
       " 'H': ['ELLH', 'FELLHAPAT'],\n",
       " 'L': ['KLPDD', 'ELLH', 'FELLHAPAT'],\n",
       " 'E': ['ELLH', 'FELLHAPAT'],\n",
       " 'D': ['KLPDD', 'KIADY'],\n",
       " 'T': ['FELLHAPAT'],\n",
       " 'P': ['KLPDD', 'FELLHAPAT'],\n",
       " 'A': ['KIADY', 'FELLHAPAT'],\n",
       " 'Y': ['KIADY']}"
      ]
     },
     "execution_count": 168,
     "metadata": {},
     "output_type": "execute_result"
    }
   ],
   "source": [
    "epitopes=[\"KLPDD\",\"KIADY\",\"ELLH\",\"FELLHAPAT\"]\n",
    "def epitopes_by_aminoacid(epitopes):\n",
    "   aa=set(''.join(epitopes))\n",
    "   diction={}\n",
    "   for a in aa:\n",
    "       diction[a]=[]\n",
    "       for epi in epitopes:\n",
    "           if a in epi:\n",
    "               diction[a].append(epi)\n",
    "   return diction\n",
    "\n",
    "\n",
    "epitopes_by_aminoacid(epitopes)\n"
   ]
  },
  {
   "cell_type": "markdown",
   "id": "e389bb10177ce649",
   "metadata": {},
   "source": [
    " Using the output of Ex 3, build a barplot that counts how many amino acids appear, respectively, in 1, 2, 3, ... epitopes. That is: the x-axis contains the sorted lengths of the lists of epitopes and the y-axis contains the number of amino acids corresponding to lists of such length.\n"
   ]
  },
  {
   "cell_type": "code",
   "execution_count": 207,
   "id": "239570cba4355813",
   "metadata": {
    "ExecuteTime": {
     "end_time": "2025-06-18T15:42:36.033271Z",
     "start_time": "2025-06-18T15:42:35.972232Z"
    }
   },
   "outputs": [
    {
     "name": "stdout",
     "output_type": "stream",
     "text": [
      "[1, 1, 1, 1, 2, 2, 2, 2, 2, 2, 3] [4, 6, 1]\n",
      "[1, 2, 3] [4, 6, 1]\n"
     ]
    },
    {
     "data": {
      "image/png": "[encoded data removed]",
      "text/plain": [
       "<Figure size 640x480 with 1 Axes>"
      ]
     },
     "metadata": {},
     "output_type": "display_data"
    }
   ],
   "source": [
    "import matplotlib.pyplot as plt\n",
    "epitope_dictionary= epitopes_by_aminoacid(epitopes)\n",
    "x = sorted([len(vl) for vl in epitope_dictionary.values()])\n",
    "y= [x.count(n) for n in set(x)]\n",
    "print(x,y)\n",
    "x=list(set(x))\n",
    "print(x,y)\n",
    "plt.bar (x,y)\n",
    "plt.xlabel('Number of epitopes the amino acid appears in')\n",
    "plt.ylabel('Number of amino acids')\n",
    "plt.title('Amino Acid Occurrence in Epitopes')\n",
    "plt.xticks(x)  # Ensure all x labels are shown\n",
    "plt.grid(axis='y', linestyle='--', alpha=0.7)\n",
    "plt.show()\n"
   ]
  },
  {
   "cell_type": "markdown",
   "id": "9528e10ac139b826",
   "metadata": {},
   "source": [
    "Build a function aminoacids_with_x_epitopes(x) that, taking as input a number x, returns the list of amino acids that appear in x epitopes. Solutions that use list comprehension are preferred [+1 pt].Build a function aminoacids_with_x_epitopes(x) that, taking as input a number x, returns the list of amino acids that appear in x epitopes. Solutions that use list comprehension are preferred [+1 pt].\n"
   ]
  },
  {
   "cell_type": "code",
   "execution_count": 269,
   "id": "cca5560300b3ecb9",
   "metadata": {
    "ExecuteTime": {
     "end_time": "2025-06-18T17:03:34.557971Z",
     "start_time": "2025-06-18T17:03:34.552515Z"
    }
   },
   "outputs": [
    {
     "data": {
      "text/plain": [
       "['K', 'H', 'E', 'D', 'P', 'A']"
      ]
     },
     "execution_count": 269,
     "metadata": {},
     "output_type": "execute_result"
    }
   ],
   "source": [
    "def aminoacids_with_x_epitopes(x):\n",
    "    aa_list = [ky for ky,vl in epitope_dictionary.items() if len(vl)==x]\n",
    "    return aa_list\n",
    "aminoacids_with_x_epitopes(2)\n"
   ]
  },
  {
   "cell_type": "markdown",
   "id": "a74b4e56539ea8fe",
   "metadata": {},
   "source": [
    "Implement the scenario described in Exercises 3, 4, and 5, using Python classes. Use all the information in the intro and previous exercises to\n",
    "formulate a complete answer. You need one class for Sequence, only with letters and a memorized length; Epitopes are a specific type of Sequence,\n",
    "with a length of maximum 20 amino acids. Epitopes not satisfying such requirement should raise an Exception on instance creation; the exception must\n",
    " be handled appropriately.\n",
    "\n",
    "The Epitope class must implement two methods (diffs and common3) that allow to crosscheck two epitopes, specifically:\n",
    "\n",
    " • to return the amino acids that different in the two amino acids (i.e., contained in one but not in the other);\n",
    "\n",
    " • to check if the two epitopes hold at least three distinct amino acids in common.\n",
    "\n",
    "Finally, add an example instantiation of two epitopes and call the diffs and common3 methods."
   ]
  },
  {
   "cell_type": "code",
   "execution_count": 319,
   "id": "c983a95b36cea1d",
   "metadata": {
    "ExecuteTime": {
     "end_time": "2025-06-19T14:24:42.970105Z",
     "start_time": "2025-06-19T14:24:42.950456Z"
    }
   },
   "outputs": [
    {
     "name": "stdout",
     "output_type": "stream",
     "text": [
      "{'F', 'T', 'A', 'P'}\n"
     ]
    },
    {
     "data": {
      "text/plain": [
       "True"
      ]
     },
     "execution_count": 319,
     "metadata": {},
     "output_type": "execute_result"
    }
   ],
   "source": [
    "class invalid_length(Exception):\n",
    "    pass\n",
    "\n",
    "class sequence:\n",
    "    def __init__(self,seq):\n",
    "        self.sequence= seq\n",
    "        self.length= len(seq)\n",
    "    def __iter__(self):\n",
    "        return iter(self.sequence)\n",
    "\n",
    "\n",
    "class epitope(sequence):\n",
    "    def __init__(self,seq):\n",
    "        super().__init__(seq)\n",
    "        try:\n",
    "            self.check()\n",
    "        except invalid_length as e:\n",
    "            print('Error:', e)\n",
    "\n",
    "\n",
    "    def check(self):\n",
    "        if self.length>20:\n",
    "            raise invalid_length('you should not have more than 20 amino acids')\n",
    "\n",
    "    @staticmethod\n",
    "    def diffs (seq1,seq2):\n",
    "        seq1=set(seq1)\n",
    "        seq2=set(seq2)\n",
    "        differ=seq1.symmetric_difference(seq2)\n",
    "        return differ\n",
    "\n",
    "    @staticmethod\n",
    "    def common3 (seq1,seq2):\n",
    "        seq1=set(seq1)\n",
    "        seq2=set(seq2)\n",
    "        common=seq1.intersection(seq2)\n",
    "        return True if len(common)>2 else False\n",
    "\n",
    "\n",
    "seq1=\"FELLHAPAT\"\n",
    "#seq2=\"KIADY\"\n",
    "seq2=\"ELLH\"\n",
    "epi1=epitope(seq1)\n",
    "epi2=epitope(seq2)\n",
    "print(epitope.diffs(epi1,epi2))\n",
    "epitope.common3(epi1,epi2)\n",
    "\n"
   ]
  }
 ],
 "metadata": {
  "kernelspec": {
   "display_name": "Python 3",
   "language": "python",
   "name": "python3"
  },
  "language_info": {
   "codemirror_mode": {
    "name": "ipython",
    "version": 2
   },
   "file_extension": ".py",
   "mimetype": "text/x-python",
   "name": "python",
   "nbconvert_exporter": "python",
   "pygments_lexer": "ipython2",
   "version": "2.7.6"
  }
 },
 "nbformat": 4,
 "nbformat_minor": 5
}
