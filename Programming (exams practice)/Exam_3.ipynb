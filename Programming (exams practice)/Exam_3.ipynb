{
 "cells": [
  {
   "metadata": {},
   "cell_type": "markdown",
   "source": [
    "Consider a file mutations.tsv containing point mutations (at the nucleotide level) for the SARS-CoV-2 virus. On the right, an example file\n",
    "content. The two columns are separated by a tab.\n",
    "\n",
    "A mutation is composed as follows:\n",
    "\n",
    "• the first character indicates the reference nucleotide, the last one indicates the mutated nucleotide:\n",
    "\n",
    "     -when both are letters,this is a substitution(e.g.,'A29735T')\n",
    "     -when the first is a dash ‘-’ and the last is a letter, this is an insertion\n",
    "     -when the first is a letter and the last is a ‘-’, this is a deletion (e.g.,\n",
    "\n",
    "• the number in the middle indicates the coordinate of the virus where the mutation occurred.\n",
    "\n",
    "### Ex1)[pts 3]\n",
    "Build a Python function read_muts that reads the tab-separated file and returns a list containing the mutations in the file.\n",
    "\n"
   ],
   "id": "531d1e9683a36b9c"
  },
  {
   "metadata": {
    "ExecuteTime": {
     "end_time": "2025-06-20T20:43:02.185256Z",
     "start_time": "2025-06-20T20:43:02.177479Z"
    }
   },
   "cell_type": "code",
   "source": [
    "from unicodedata import category\n",
    "\n",
    "from jsonschema.benchmarks.const_vs_enum import valid\n",
    "\n",
    "\n",
    "def read_muts(file:str):\n",
    "    with open(file, 'r') as f:\n",
    "        f.readline()\n",
    "        list_mutations = []\n",
    "        for line in f:\n",
    "            line=line.strip().split('\\t')\n",
    "            list_mutations.append(line[1])\n",
    "\n",
    "    return list_mutations"
   ],
   "id": "fd377b5b29be857d",
   "outputs": [],
   "execution_count": 7
  },
  {
   "metadata": {},
   "cell_type": "markdown",
   "source": [
    "### Ex2) [pts 7]\n",
    "Build a Python function syn_report taking in input a list of mutations (as returned in Ex.1) and checking the following conditions:\n",
    "\n",
    "a. only correct nucleotides (A, C, G, or T) or a dash (indicating an insertion or a deletion) are used;\n",
    "\n",
    "b. the central part of the string is a number;\n",
    "\n",
    "c. the coordinate does not exceed 29903.\n",
    "\n",
    "When (a), (b) and (c) are met, a confirmation message is printed. Else, if any of these conditions are not met, appropriate exceptions are\n",
    "raised and handled (built-in exceptions or implemented from scratch)."
   ],
   "id": "18eea9b7a5fddf50"
  },
  {
   "metadata": {
    "ExecuteTime": {
     "end_time": "2025-06-20T22:56:50.788147Z",
     "start_time": "2025-06-20T22:56:50.770662Z"
    }
   },
   "cell_type": "code",
   "source": [
    "class LimitError(Exception):\n",
    "    pass\n",
    "\n",
    "def syn_report(lst:list):\n",
    "    truthy=[]\n",
    "    for mutation in lst:\n",
    "      valid=['A','C','G','T','-']\n",
    "\n",
    "      try:\n",
    "        if mutation[0] in valid and mutation[-1] in valid:\n",
    "            if mutation[1:-1].isdigit():\n",
    "                if int(mutation[1:-1]) <= 29903:\n",
    "                    print(f'all three conditions are satisfied')\n",
    "                    truthy.append(True)\n",
    "\n",
    "                else:\n",
    "                    truthy.append(False)\n",
    "                    raise LimitError('the coordinate must not exceed 29903')\n",
    "            else:\n",
    "                truthy.append(False)\n",
    "                raise TypeError('Only numbers are allowed as coordinate')\n",
    "        else:\n",
    "            truthy.append(False)\n",
    "            raise ValueError(f'only {valid} are valid')\n",
    "\n",
    "      except ValueError as e:\n",
    "         print(e)\n",
    "      except TypeError as e:\n",
    "         print(e)\n",
    "      except LimitError as e:\n",
    "         print(e)\n",
    "      #else:\n",
    "         #print(f'all three conditions are satisfied')\n",
    "\n",
    "    return truthy\n",
    "\n",
    "ls=['A29735T','-29735A','A29735-','-29035G']\n",
    "syn_report(ls)"
   ],
   "id": "bbff5ca9ed4c3c48",
   "outputs": [
    {
     "name": "stdout",
     "output_type": "stream",
     "text": [
      "all three conditions are satisfied\n",
      "all three conditions are satisfied\n",
      "all three conditions are satisfied\n",
      "all three conditions are satisfied\n"
     ]
    },
    {
     "data": {
      "text/plain": [
       "[True, True, True, True]"
      ]
     },
     "execution_count": 28,
     "metadata": {},
     "output_type": "execute_result"
    }
   ],
   "execution_count": 28
  },
  {
   "metadata": {},
   "cell_type": "markdown",
   "source": [
    " ### Ex4) [pts 6]\n",
    "Build a Python function dictionarize taking in input a list of mutations (as returned in Ex.1; here, you can assume that they are all formatted\n",
    " correctly) and memorizing them in a dictionary, whose keys are the actual mutations and values are smaller dictionaries. For instance, one\n",
    " item of the upper dictionary may become:\n",
    "\n",
    "         `“G29736-”: {“type”: “deletion”, “coordinate”: 29736, “ref”: G, “alt”: “-”} `\n",
    "\n",
    "Hint: for determining the type, it may be convenient to use an auxiliary function.\n"
   ],
   "id": "1415eb7f42c16cfa"
  },
  {
   "metadata": {
    "ExecuteTime": {
     "end_time": "2025-06-20T23:57:28.814569Z",
     "start_time": "2025-06-20T23:57:28.804539Z"
    }
   },
   "cell_type": "code",
   "source": [
    "def check(mutation:str):\n",
    "    if mutation[0]=='-':\n",
    "        return 'insertion'\n",
    "    elif mutation[-1]=='-':\n",
    "        return 'deletion'\n",
    "    else:\n",
    "        return 'substitution'\n",
    "\n",
    "\n",
    "def dictionarize(lst:list):\n",
    "    diction={mut:{'type': check(mut) , 'coordinate':int(mut[1:-1]), 'ref':mut[0], 'alt': mut[-1] } for mut in lst}\n",
    "    return diction\n",
    "\n",
    "#Test\n",
    "m=['G29736-']\n",
    "dictionarize(m)=={'G29736-': {'type': 'deletion', 'coordinate': 29736, 'ref': 'G', 'alt': '-'}}\n",
    "dictionarize(ls)\n"
   ],
   "id": "cfd8582c384997f5",
   "outputs": [
    {
     "data": {
      "text/plain": [
       "{'A29735T': {'type': 'substitution',\n",
       "  'coordinate': 29735,\n",
       "  'ref': 'A',\n",
       "  'alt': 'T'},\n",
       " '-29735A': {'type': 'insertion', 'coordinate': 29735, 'ref': '-', 'alt': 'A'},\n",
       " 'A29735-': {'type': 'deletion', 'coordinate': 29735, 'ref': 'A', 'alt': '-'},\n",
       " '-29035G': {'type': 'insertion', 'coordinate': 29035, 'ref': '-', 'alt': 'G'}}"
      ]
     },
     "execution_count": 46,
     "metadata": {},
     "output_type": "execute_result"
    }
   ],
   "execution_count": 46
  },
  {
   "metadata": {},
   "cell_type": "markdown",
   "source": [
    "### Ex5) [pts 4]\n",
    "Build a Python function bar_types taking the dictionary as created in Ex.4 in input and drawing a bar plot counting the occurrences of three\n",
    "categories of mutations: substitutions, insertions, and deletions."
   ],
   "id": "7875f4cca73a1c70"
  },
  {
   "metadata": {
    "ExecuteTime": {
     "end_time": "2025-06-21T00:13:17.220945Z",
     "start_time": "2025-06-21T00:13:17.156154Z"
    }
   },
   "cell_type": "code",
   "source": [
    "import matplotlib.pyplot as plt\n",
    "\n",
    "def bar_types(diction:dict):\n",
    "    types=[vl['type'] for vl in diction.values()]\n",
    "    category=['deletion', 'insertion', 'substitution']\n",
    "    count=[ types.count('deletion'), types.count('insertion'), types.count('substitution') ]\n",
    "\n",
    "    plt.bar(category, count)\n",
    "    plt.xticks(category, rotation=45)\n",
    "    plt.title('Mutation types occurrence Bar plot')\n",
    "    plt.xlabel('Mutation types')\n",
    "    plt.ylabel('Occurrences')\n",
    "    plt.show()\n",
    "\n",
    "a=dictionarize(ls)\n",
    "bar_types(a)"
   ],
   "id": "35e9c5e4de3a5d6c",
   "outputs": [
    {
     "data": {
      "text/plain": [
       "<Figure size 640x480 with 1 Axes>"
      ],
      "image/png": "[encoded data removed]"
     },
     "metadata": {},
     "output_type": "display_data"
    }
   ],
   "execution_count": 52
  },
  {
   "metadata": {},
   "cell_type": "markdown",
   "source": [
    "### Ex6)[pts 7]\n",
    "Build the basic infrastructure for describing the content in the file with classes. Implement a Mutation class and a Sequence class, which has\n",
    " a list of Mutations. This attribute must be filled using an appropriate setter method, which checks that mutations are of the correct data\n",
    " type. Else, they are not memorized.\n",
    "Then, instantiate basic objects to show the usage of your classes. E.g., SeqA and SeqB both have C25000T and A28271T, but only SeqB has C25584T.\n",
    "Finally, implement a method to print the list of mutations of a sequence.\n",
    "Hint: mutations are complex objects, so they must implement their own method to be printed as strings."
   ],
   "id": "7390baeb05c109a2"
  },
  {
   "metadata": {
    "ExecuteTime": {
     "end_time": "2025-06-21T12:30:34.327404Z",
     "start_time": "2025-06-21T12:30:34.312496Z"
    }
   },
   "cell_type": "code",
   "source": [
    "class Mutation:\n",
    "    def __init__(self,mut):\n",
    "        valid=['A','C','G','T','-']\n",
    "        if mut[0] in valid and mut[-1] in valid:\n",
    "            if mut[1:-1].isdigit():\n",
    "                if int(mut[1:-1]) <= 29903:\n",
    "                    self.mut=mut\n",
    "\n",
    "    def __str__(self):\n",
    "        return str (self.mut)\n",
    "\n",
    "class Sequence:\n",
    "    def __init__(self):\n",
    "        self.mutations=[]\n",
    "\n",
    "    def __iter__(self):\n",
    "        return iter(self.mutations)\n",
    "\n",
    "    def set_mut(self,*mutations):\n",
    "      for mut in mutations:\n",
    "        if isinstance(mut, Mutation):\n",
    "            self.mutations.append(mut)\n",
    "        else:  #totaly avoidable\n",
    "            print(f'mutation {mut} is not memorized')\n",
    "\n",
    "    def __str__(self):\n",
    "        return '\\n'.join([str(mut) for mut in self.mutations])\n",
    "\n",
    "    def print(self):\n",
    "        print([str(mut) for mut in self.mutations])\n",
    "\n",
    "\n",
    "C25000T=Mutation('C25000T')\n",
    "A28271T=Mutation('A28271T')\n",
    "C25584T=Mutation('C25584T')\n",
    "\n",
    "seqA=Sequence()\n",
    "seqA.set_mut(C25584T, A28271T)\n",
    "seqB=Sequence()\n",
    "seqB.set_mut(C25584T,A28271T, C25000T)\n",
    "seqB.print()\n",
    "print(seqB)"
   ],
   "id": "fc6480ef41d89ac9",
   "outputs": [
    {
     "name": "stdout",
     "output_type": "stream",
     "text": [
      "['C25584T', 'A28271T', 'C25000T']\n",
      "C25584T\n",
      "A28271T\n",
      "C25000T\n"
     ]
    }
   ],
   "execution_count": 83
  }
 ],
 "metadata": {
  "kernelspec": {
   "display_name": "Python 3",
   "language": "python",
   "name": "python3"
  },
  "language_info": {
   "codemirror_mode": {
    "name": "ipython",
    "version": 2
   },
   "file_extension": ".py",
   "mimetype": "text/x-python",
   "name": "python",
   "nbconvert_exporter": "python",
   "pygments_lexer": "ipython2",
   "version": "2.7.6"
  }
 },
 "nbformat": 4,
 "nbformat_minor": 5
}
