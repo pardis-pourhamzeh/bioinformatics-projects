{
 "cells": [
  {
   "metadata": {},
   "cell_type": "markdown",
   "source": [
    "### 1) [3pts+1pt]\n",
    "Poli4x4 is a game played on a 4x4 grid. In Python, a grid can be seen as a matrix with 4 rows and\n",
    "4 columns and can be represented with a list of lists. Each cell of the grid may take the value 0 or 1. The\n",
    "content of the cells is generated randomly. Below are three examples of possible grids. Write a Python\n",
    "function fill_grid that generates and returns the grid. Solutions that employ list comprehension are preferred\n",
    "[+1pt].\n"
   ],
   "id": "c0c2d94a48923b34"
  },
  {
   "metadata": {
    "ExecuteTime": {
     "end_time": "2025-06-21T14:56:49.117628Z",
     "start_time": "2025-06-21T14:56:49.113034Z"
    }
   },
   "cell_type": "code",
   "source": [
    "import random\n",
    "\n",
    "def fill_grid():\n",
    "    grid=[random.choices([1,0], k=4) for i in range(4)]\n",
    "    return grid\n",
    "\n",
    "\n",
    "\n",
    "grid=fill_grid()\n",
    "print(grid)"
   ],
   "id": "e1fbaad0e9b39ed9",
   "outputs": [
    {
     "name": "stdout",
     "output_type": "stream",
     "text": [
      "[[0, 0, 1, 0], [0, 0, 1, 1], [1, 0, 1, 1], [1, 1, 0, 0]]\n"
     ]
    }
   ],
   "execution_count": 45
  },
  {
   "metadata": {},
   "cell_type": "markdown",
   "source": [
    "### 2) [6pts]\n",
    "Write a Python function fill_sums dict that computes the sum for all rows and for all the columns of\n",
    "the grid. The results are stored (as values) in a dictionary where keys identify the row/column number.\n",
    "For instance, considering the example grid (A), the dictionary entry (‘r’,0): 2 means that the first row of the\n",
    "grid has sum 2, while (‘c’,2): 4 means that the third column of the grid has sum 4. The function takes the grid\n",
    "as input, and it returns the complete dictionary built in this way."
   ],
   "id": "3f1aacca334e13b0"
  },
  {
   "metadata": {
    "ExecuteTime": {
     "end_time": "2025-06-21T16:29:49.059119Z",
     "start_time": "2025-06-21T16:29:49.044676Z"
    }
   },
   "cell_type": "code",
   "source": [
    "def fill_sums_dict(grid):\n",
    "    diction={('r',i): sum(row) for i, row in enumerate(grid)}\n",
    "    transposed=[]\n",
    "    for i in range(len(grid)):\n",
    "        col=[]\n",
    "        for row in grid:\n",
    "            col.append(row[i])\n",
    "        transposed.append(col)\n",
    "    dic_col={('c',i): sum(row) for i, row in enumerate(transposed)}\n",
    "    diction.update(dic_col)\n",
    "    return diction\n",
    "\n",
    "fill_sums_dict(grid)\n"
   ],
   "id": "b1434d67bd43090e",
   "outputs": [
    {
     "data": {
      "text/plain": [
       "{('r', 0): 1,\n",
       " ('r', 1): 1,\n",
       " ('r', 2): 3,\n",
       " ('r', 3): 2,\n",
       " ('c', 0): 1,\n",
       " ('c', 1): 3,\n",
       " ('c', 2): 1,\n",
       " ('c', 3): 2}"
      ]
     },
     "execution_count": 90,
     "metadata": {},
     "output_type": "execute_result"
    }
   ],
   "execution_count": 90
  },
  {
   "metadata": {},
   "cell_type": "markdown",
   "source": [
    "### 3) [6pts]\n",
    "Write the Python code that creates a new grid (i.e., calling the function created in Ex. 1), creates the dictionary of sums (i.e., calling the function created in Ex. 2) [1pt], and then:\n",
    "\n",
    "a. In a file results.txt, it prints which rows or columns only have zeros or only have ones [2pts]\n",
    "\n",
    "b. On the console, it prints a barplot with the n. of columns/rows respectively with sum 0, 1, 2, 3, 4 [3pts]"
   ],
   "id": "8331861f2f379f55"
  },
  {
   "metadata": {
    "ExecuteTime": {
     "end_time": "2025-06-21T15:11:44.079491Z",
     "start_time": "2025-06-21T15:11:44.073438Z"
    }
   },
   "cell_type": "code",
   "source": [
    "new_grid=fill_grid()\n",
    "print(new_grid)\n",
    "new_grid_dictionary=fill_sums_dict(new_grid)\n",
    "print(new_grid_dictionary)\n",
    "\n",
    "with open('results.txt', mode='w') as f:\n",
    "    result=[]\n",
    "    for key,value in new_grid_dictionary.items():\n",
    "        if value==0:\n",
    "            result.append(f'{key} has only zeros')\n",
    "        elif value==4:\n",
    "            result.append(f'{key} has only ones')\n",
    "    #f.writelines(result)    are equivalant\n",
    "    f.write('\\n'.join(result))\n"
   ],
   "id": "5148f0c9309ed20d",
   "outputs": [
    {
     "name": "stdout",
     "output_type": "stream",
     "text": [
      "[[1, 0, 1, 0], [0, 0, 0, 1], [1, 1, 1, 1], [0, 1, 1, 0]]\n",
      "{('r', 0): 2, ('r', 1): 1, ('r', 2): 4, ('r', 3): 2, ('c', 0): 2, ('c', 1): 2, ('c', 2): 3, ('c', 3): 2}\n"
     ]
    }
   ],
   "execution_count": 71
  },
  {
   "metadata": {
    "ExecuteTime": {
     "end_time": "2025-06-21T18:02:16.586594Z",
     "start_time": "2025-06-21T18:02:16.522646Z"
    }
   },
   "cell_type": "code",
   "source": [
    "import matplotlib.pyplot as plt\n",
    "\n",
    "col_data={0:0, 1:0, 2:0 , 3:0, 4:0 }\n",
    "row_data={0:0, 1:0, 2:0, 3:0, 4:0 }\n",
    "\n",
    "for ky, vl in new_grid_dictionary.items():\n",
    "    if ky[0]== 'c':\n",
    "        col_data[vl]+=1\n",
    "\n",
    "    elif ky[0]=='r':\n",
    "        row_data[vl]+=1\n",
    "\n",
    "\n",
    "xes=list(col_data.keys())\n",
    "col=[x-0.2 for x in xes]\n",
    "row=[x+0.2 for x in xes]\n",
    "plt.bar(col,list(col_data.values()), width=0.4, label='columns sum')\n",
    "plt.bar(row,list(row_data.values()), width=0.4, label='rows sum')\n",
    "plt.title('sum frequency in rows or columns')\n",
    "plt.xlabel('sum of columns or rows')\n",
    "plt.ylabel('number of rows or columns')\n",
    "plt.legend()\n",
    "plt.show()"
   ],
   "id": "f1ddc018ede6e187",
   "outputs": [
    {
     "data": {
      "text/plain": [
       "<Figure size 640x480 with 1 Axes>"
      ],
      "image/png": "[encoded data removed]"
     },
     "metadata": {},
     "output_type": "display_data"
    }
   ],
   "execution_count": 144
  },
  {
   "metadata": {},
   "cell_type": "markdown",
   "source": [
    "### [9pts]\n",
    "Implement the structure of the Poli4x4 class following these indications.\n",
    "The functions implemented in Ex 1 and 2 (fill_grid and fill_sums_dict) become methods in the class (you can rewrite them if convenient). The\n",
    "constructor exploits them to fill two attributes: grid and sums_dict [1pt].\n",
    "\n",
    "Only two kinds of configurations are considered ‘winning’ in Poli4x4:\n",
    "\n",
    "a. if at least 3 columns or rows (or combination of them) have a sum of 4. Write a method has_three_1series that checks if this condition is\n",
    "true (see grid (B) for an example) [3pts].\n",
    "\n",
    "b. if the grid has zeros in the outer frame and ones in the inner square. Write a method is_inner_square that checks if this condition is true\n",
    " (see grid (C) for an example). [3pts].\n",
    "\n",
    "Finally, write a method is_winning that calls has_three_1series and is_inner_square and returns True if any of them returns True. Else, it\n",
    "raises an appropriate exception (i.e., when no winning configuration has been reached) [2pts]."
   ],
   "id": "c801ccffbb5d2ecc"
  },
  {
   "metadata": {
    "ExecuteTime": {
     "end_time": "2025-06-21T19:51:59.429370Z",
     "start_time": "2025-06-21T19:51:59.420207Z"
    }
   },
   "cell_type": "code",
   "source": [
    "class NoWinning(Exception):\n",
    "    pass\n",
    "class Poli4x4:\n",
    "    def __init__(self):\n",
    "        self.grid= self.grid()\n",
    "        self.sums_dict= self.sums_dict()\n",
    "\n",
    "\n",
    "    def grid (self):\n",
    "        return fill_grid()\n",
    "\n",
    "    def sums_dict(self):\n",
    "        return fill_sums_dict(self.grid)\n",
    "\n",
    "    def has_three_1series(self):\n",
    "        vl=list(self.sums_dict.values())\n",
    "        count_4= vl.count(4)\n",
    "        if count_4 >=3:\n",
    "            return True\n",
    "        else:\n",
    "           return False\n",
    "\n",
    "    def is_inner_square(self):\n",
    "        table=[]\n",
    "        for ky, vl in self.sums_dict.items():\n",
    "            if ky[1] in [0,3]:\n",
    "                if vl==0:\n",
    "                    table.append(True)\n",
    "                else:\n",
    "                    table.append(False)\n",
    "            elif ky[1] in [1,2]:\n",
    "                if vl==2:\n",
    "                    table.append(True)\n",
    "                else:\n",
    "                    table.append(False)\n",
    "        return all(table)\n",
    "\n",
    "\n",
    "\n",
    "    def is_winning(self):\n",
    "        truthy=[self.has_three_1series(), self.is_inner_square()]\n",
    "        if any(truthy):\n",
    "            return True\n",
    "        else:\n",
    "            raise NoWinning('no winning configuration has been reached!')\n",
    "\n",
    "\n"
   ],
   "id": "beaa77fb05c07a05",
   "outputs": [],
   "execution_count": 176
  },
  {
   "metadata": {
    "ExecuteTime": {
     "end_time": "2025-06-21T19:52:05.763656Z",
     "start_time": "2025-06-21T19:52:05.755906Z"
    }
   },
   "cell_type": "code",
   "source": [
    "game1=Poli4x4()\n",
    "grid=game1.grid\n",
    "dict=game1.sums_dict\n",
    "print(grid)\n",
    "print(dict)\n",
    "try:\n",
    "    game1.is_winning()\n",
    "except NoWinning as e:\n",
    "    print(e)\n"
   ],
   "id": "324157ada0e76144",
   "outputs": [
    {
     "name": "stdout",
     "output_type": "stream",
     "text": [
      "[[0, 0, 1, 1], [0, 0, 1, 0], [0, 1, 1, 0], [0, 1, 1, 1]]\n",
      "{('r', 0): 2, ('r', 1): 1, ('r', 2): 2, ('r', 3): 3, ('c', 0): 0, ('c', 1): 2, ('c', 2): 4, ('c', 3): 2}\n",
      "no winning configuration has been reached!\n"
     ]
    }
   ],
   "execution_count": 177
  },
  {
   "metadata": {},
   "cell_type": "markdown",
   "source": [
    "### [3pts]\n",
    "Suppose that the game is generalized to bigger grids. The new class is called PoliNxN. Discuss, in words, what changes/additions you could\n",
    "make to the code written for Ex. 4 to allow for this possibility."
   ],
   "id": "98dac204d75d8399"
  },
  {
   "metadata": {
    "ExecuteTime": {
     "end_time": "2025-06-21T20:01:53.599388Z",
     "start_time": "2025-06-21T20:01:53.592471Z"
    }
   },
   "cell_type": "code",
   "source": [
    "class PoliNxN:\n",
    "    def __init__(self,n):\n",
    "        self.n=n\n",
    "        self.name= f'Poli{n}x{n}'\n",
    "        self.grid= self.grid()\n",
    "        self.sums_dict= self.sums_dict()\n",
    "\n",
    "    def __str__(self):\n",
    "        return f'{self.name}'\n",
    "\n",
    "    def grid(self):\n",
    "        grid=[random.choices([1,0], k=self.n) for i in range(self.n)]\n",
    "        return grid\n",
    "\n",
    "    def sums_dict(self):\n",
    "        return fill_sums_dict(self.grid)\n",
    "\n",
    "    def is_inner_square(self):\n",
    "        table=[]\n",
    "        for ky, vl in self.sums_dict.items():\n",
    "            if ky[1] in [0,self.n-1]:\n",
    "                if vl==0:\n",
    "                    table.append(True)\n",
    "                else:\n",
    "                    table.append(False)\n",
    "            else:\n",
    "                if vl==self.n-2:\n",
    "                    table.append(True)\n",
    "                else:\n",
    "                    table.append(False)\n",
    "        return all(table)"
   ],
   "id": "6a81dfea597c5d66",
   "outputs": [],
   "execution_count": 192
  },
  {
   "metadata": {
    "ExecuteTime": {
     "end_time": "2025-06-21T20:01:56.976250Z",
     "start_time": "2025-06-21T20:01:56.972288Z"
    }
   },
   "cell_type": "code",
   "source": [
    "game2=PoliNxN(5)\n",
    "print(game2.grid)\n",
    "print(game2.sums_dict)\n",
    "game2.is_inner_square()\n",
    "\n"
   ],
   "id": "7d9a62fd5c6e4a1f",
   "outputs": [
    {
     "name": "stdout",
     "output_type": "stream",
     "text": [
      "[[0, 0, 1, 1, 1], [1, 1, 0, 1, 1], [1, 1, 1, 1, 1], [0, 0, 1, 1, 1], [1, 0, 0, 1, 0]]\n",
      "{('r', 0): 3, ('r', 1): 4, ('r', 2): 5, ('r', 3): 3, ('r', 4): 2, ('c', 0): 3, ('c', 1): 2, ('c', 2): 3, ('c', 3): 5, ('c', 4): 4}\n"
     ]
    },
    {
     "data": {
      "text/plain": [
       "False"
      ]
     },
     "execution_count": 193,
     "metadata": {},
     "output_type": "execute_result"
    }
   ],
   "execution_count": 193
  }
 ],
 "metadata": {
  "kernelspec": {
   "display_name": "Python 3",
   "language": "python",
   "name": "python3"
  },
  "language_info": {
   "codemirror_mode": {
    "name": "ipython",
    "version": 2
   },
   "file_extension": ".py",
   "mimetype": "text/x-python",
   "name": "python",
   "nbconvert_exporter": "python",
   "pygments_lexer": "ipython2",
   "version": "2.7.6"
  }
 },
 "nbformat": 4,
 "nbformat_minor": 5
}
