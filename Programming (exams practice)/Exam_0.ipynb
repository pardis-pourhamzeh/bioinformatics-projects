{
 "cells": [
  {
   "cell_type": "markdown",
   "metadata": {},
   "source": [
    "## EXAM 1"
   ]
  },
  {
   "cell_type": "markdown",
   "metadata": {},
   "source": [
    "**Q1** [5 pts] Consider two lists La and Lb of pairs, e.g.,:\n",
    "```\n",
    "La = [ (\"DLL1\", -0.68), (\"BRCA2\", 0.02), (\"IGF2\", 1.34), (\"TNF\", -1.87) ]\n",
    "Lb = [ (\"TRPV2\", 12732), (\"DLL1\", 8342), (\"BRCA2\",6334), (\"IGF2\", 18342) ]\n",
    "```\n",
    "\n",
    "write a piece of code to perform the (inner) join of the two lists on the first element of the pairs. The result should be a new list Lc, such that:\n",
    "```\n",
    "Lc = [(\"DLL1\", -0.68, 8342), (\"BRCA2\", 0.02, 6332), (\"IGF2\", 1.34, 18342)]```"
   ]
  },
  {
   "metadata": {
    "ExecuteTime": {
     "end_time": "2025-06-24T12:29:13.295157Z",
     "start_time": "2025-06-24T12:29:13.291204Z"
    }
   },
   "cell_type": "code",
   "source": [
    "from numpy.ma.extras import average\n",
    "\n",
    "La = [ (\"DLL1\", -0.68), (\"BRCA2\", 0.02), (\"IGF2\", 1.34), (\"TNF\", -1.87) ]\n",
    "Lb = [ (\"TRPV2\", 12732), (\"DLL1\", 8342), (\"BRCA2\",6334), (\"IGF2\", 18342) ]\n"
   ],
   "outputs": [],
   "execution_count": 3
  },
  {
   "metadata": {
    "ExecuteTime": {
     "end_time": "2025-06-24T12:52:40.692278Z",
     "start_time": "2025-06-24T12:52:40.672614Z"
    }
   },
   "cell_type": "code",
   "source": [
    "#Smarter Version\n",
    "dicta=dict(La)\n",
    "dictb=dict(Lb)\n",
    "key= set(dicta.keys()).intersection(set(dictb.keys()))\n",
    "Lcc=[(ky,dicta.get(ky),dictb.get(ky) )for ky in key]\n",
    "print(Lcc)"
   ],
   "outputs": [
    {
     "name": "stdout",
     "output_type": "stream",
     "text": [
      "[('IGF2', 1.34, 18342), ('BRCA2', 0.02, 6334), ('DLL1', -0.68, 8342)]\n"
     ]
    }
   ],
   "execution_count": 12
  },
  {
   "metadata": {
    "ExecuteTime": {
     "end_time": "2025-06-24T12:29:22.407971Z",
     "start_time": "2025-06-24T12:29:22.401704Z"
    }
   },
   "cell_type": "code",
   "outputs": [
    {
     "name": "stdout",
     "output_type": "stream",
     "text": [
      "[('IGF2', 1.34, 18342), ('BRCA2', 0.02, 6334), ('DLL1', -0.68, 8342)]\n"
     ]
    }
   ],
   "execution_count": 5,
   "source": [
    "dict_a={tuple[0]:tuple[1] for tuple in La}\n",
    "dict_b={tuple[0]:tuple[1] for tuple in Lb}\n",
    "keys= set(dict_a.keys()).intersection(set(dict_b.keys()))\n",
    "Lc=[(key,dict_a.get(key),dict_b.get(key) )for key in keys]\n",
    "print(Lc)"
   ]
  },
  {
   "cell_type": "markdown",
   "metadata": {},
   "source": [
    "Try the same question with left, right and full outer joins \n",
    "```\n",
    "SELECT La.gene, La.value, Lb.value\n",
    "FROM La\n",
    "LEFT JOIN Lb ON La.gene = Lb.gene\n",
    "```\n",
    "```\n",
    "SELECT Lb.gene, La.value, Lb.value\n",
    "FROM La\n",
    "RIGHT JOIN Lb ON La.gene = Lb.gene\n",
    "```\n",
    "```\n",
    "SELECT La.gene,Lb.gene, La.value, Lb.value\n",
    "FROM La\n",
    "OUTER JOIN Lb ON La.gene = Lb.gene\n",
    "```"
   ]
  },
  {
   "cell_type": "markdown",
   "metadata": {},
   "source": [
    "#### LEFT JOIN RESULT\n",
    "Lc = [(\"DLL1\", -0.68, 8342),(\"BRCA2\", 0.02, 6332),(\"IGF2\", 1.34, 18342), (\"TNF\",-1.87, None)]"
   ]
  },
  {
   "metadata": {
    "ExecuteTime": {
     "end_time": "2025-06-24T13:08:52.774398Z",
     "start_time": "2025-06-24T13:08:52.730957Z"
    }
   },
   "cell_type": "code",
   "source": [
    "d_b=dict(Lb)\n",
    "lj=[(gene,value, dict_b.get(gene, None)) for gene, value in La]\n",
    "print(lj)\n"
   ],
   "outputs": [
    {
     "name": "stdout",
     "output_type": "stream",
     "text": [
      "[('DLL1', -0.68, 8342), ('BRCA2', 0.02, 6334), ('IGF2', 1.34, 18342), ('TNF', -1.87, None)]\n"
     ]
    }
   ],
   "execution_count": 14
  },
  {
   "cell_type": "markdown",
   "metadata": {},
   "source": [
    "#### RIGHT JOIN RESULT\n",
    "Lc = [(\"DLL1\", -0.68, 8342),(\"BRCA2\", 0.02, 6332),(\"IGF2\", 1.34, 18342), (\"TRPV2\",None,12732)]"
   ]
  },
  {
   "metadata": {
    "ExecuteTime": {
     "end_time": "2025-06-24T13:10:56.671530Z",
     "start_time": "2025-06-24T13:10:56.662079Z"
    }
   },
   "cell_type": "code",
   "source": [
    "d_a=dict(La)\n",
    "rj=[(gene,d_a.get(gene, None),value) for gene,value in Lb]\n",
    "print(rj)"
   ],
   "outputs": [
    {
     "name": "stdout",
     "output_type": "stream",
     "text": [
      "[('TRPV2', None, 12732), ('DLL1', -0.68, 8342), ('BRCA2', 0.02, 6334), ('IGF2', 1.34, 18342)]\n"
     ]
    }
   ],
   "execution_count": 17
  },
  {
   "cell_type": "markdown",
   "metadata": {},
   "source": [
    "#### FULL OUTER JOIN\n",
    "Lc = [(\"DLL1\", -0.68, 8342),(\"BRCA2\", 0.02, 6332), (\"IGF2\", 1.34, 18342), (\"TNF\",-1.87, None), (\"TRPV2\",None,12732)]"
   ]
  },
  {
   "metadata": {
    "ExecuteTime": {
     "end_time": "2025-06-24T13:14:27.516498Z",
     "start_time": "2025-06-24T13:14:27.509095Z"
    }
   },
   "cell_type": "code",
   "source": [
    "a=dict(La)\n",
    "b=dict(Lb)\n",
    "keyss= set(a.keys()).union(set(b.keys()))\n",
    "fj=[(ky,a.get(ky,None), b.get(ky,None)) for ky in keyss]\n",
    "print(fj)\n"
   ],
   "outputs": [
    {
     "name": "stdout",
     "output_type": "stream",
     "text": [
      "[('IGF2', 1.34, 18342), ('TRPV2', None, 12732), ('TNF', -1.87, None), ('BRCA2', 0.02, 6334), ('DLL1', -0.68, 8342)]\n"
     ]
    }
   ],
   "execution_count": 18
  },
  {
   "cell_type": "markdown",
   "metadata": {},
   "source": [
    "**Q2** [6 pts] The Python built-in function `int(string)` parses, if possible, an input string object into an integer object. Implement a **recursive** function `my_int(string)` that performs the same operation."
   ]
  },
  {
   "cell_type": "code",
   "execution_count": null,
   "metadata": {},
   "outputs": [],
   "source": [
    "##not resolved because it only makes sense with recursive implementation"
   ]
  },
  {
   "cell_type": "markdown",
   "metadata": {},
   "source": [
    "**Q3** [5 pts] A comma separated files stores for each patient a series of measurements. Each patient may have a different number of reported measurements. An example of\n",
    "the file follows:\n",
    "```\n",
    "Patient1, 23.4, 53.2, 6.3, 3.5\n",
    "Patient2, 2.4, 44.6, 33.2, 14.5, 65.2\n",
    "Patient3, 38.5, 56.7, 6.4\n",
    "```\n",
    "write a function `process_file(input_path, output_path)`. The function reads the file at input_path and writes into a new file at output_path a summary of the first in\n",
    "the format:\n",
    "```\n",
    "PatientID, min_measurement, max_measurement, average_measurement\n",
    "```"
   ]
  },
  {
   "metadata": {
    "ExecuteTime": {
     "end_time": "2025-06-24T23:16:41.647695Z",
     "start_time": "2025-06-24T23:16:41.633302Z"
    }
   },
   "cell_type": "code",
   "source": [
    "with open('inpt.txt', 'w') as f:\n",
    "    li=['Patient1, 23.4, 53.2, 6.3, 3.5', 'Patient2, 2.4, 44.6, 33.2, 14.5, 65.2', 'Patient3, 38.5, 56.7, 6.4']\n",
    "    f.writelines(\"\\n\".join(li))\n",
    "\n",
    "\n",
    "def process_file(input_path:str, output_path:str):\n",
    "    with open(input_path,\"r\") as file:\n",
    "      with open(output_path,\"w\") as f:\n",
    "        f.write(\"PatientID, Min, Max, Average\\n\")\n",
    "        for line in file:\n",
    "            line = line.strip().split(',')\n",
    "            valu=list(map(float, line[1:]))\n",
    "            aver=sum(valu)/len(valu)\n",
    "            info=f'{line[0]}, {min(valu)}, {max(valu)}, {aver}\\n'\n",
    "            f.write(info)\n",
    "    with open(output_path,\"r\") as f:\n",
    "      return '\\n'.join(f.readlines())\n",
    "\n",
    "print(process_file(\"inpt.txt\",\"output.txt\"))"
   ],
   "outputs": [
    {
     "name": "stdout",
     "output_type": "stream",
     "text": [
      "PatientID, Min, Max, Average\n",
      "\n",
      "Patient1, 3.5, 53.2, 21.6\n",
      "\n",
      "Patient2, 2.4, 65.2, 31.98\n",
      "\n",
      "Patient3, 6.4, 56.7, 33.86666666666667\n",
      "\n"
     ]
    }
   ],
   "execution_count": 55
  },
  {
   "cell_type": "markdown",
   "metadata": {},
   "source": [
    "**Q4** [10 pts] \n",
    "\n",
    "A FIFO (first-in, first-out) is a data structure that allows two operations: `insert(elem)` and `get()`. \n",
    "\n",
    "Every time the insert is invoked a new element is inserted in the structure, while every time the get is invoked the “oldest” element in the structure is returned and removed from the list. Implement a class `FIFO`, with the following additions: \n",
    "- (a) the class is created empty; \n",
    "- (b) if the get method is invoked and no element is present in the structure, a `FIFOException` (to be also defined) is raised; \n",
    "- (c) a boolean method `has_next()` returns True if at least one element is still present in the structure; \n",
    "- (d) a `reset()` method restores the initial status (empty FIFO) by removing one by one all the elements by invoking the get() method."
   ]
  },
  {
   "metadata": {
    "ExecuteTime": {
     "end_time": "2025-06-24T23:18:23.419637Z",
     "start_time": "2025-06-24T23:18:23.407776Z"
    }
   },
   "cell_type": "code",
   "source": [
    "class FIFIException(Exception):\n",
    "    def __init__(self, msg):\n",
    "        self.msg = msg\n",
    "    def __str__(self):\n",
    "        return self.msg\n",
    "\n",
    "class FIFO:\n",
    "    def __init__(self):\n",
    "        self.queue =[]\n",
    "\n",
    "    def insert(self, item):\n",
    "        self.queue.append(item)\n",
    "\n",
    "    def get(self):\n",
    "        if len(self.queue) == 0:\n",
    "            raise FIFOException(\"FIFO queue is empty\")\n",
    "        r=self.queue[0]\n",
    "        del self.queue[0]\n",
    "        return r\n",
    "    def has_next(self):\n",
    "        if len(self.queue) >=1:\n",
    "            return True\n",
    "        else:\n",
    "            return False\n",
    "\n",
    "    def reset(self):\n",
    "        while len(self.queue) > 0:\n",
    "            try:\n",
    "                self.get()\n",
    "            except FIFOException as e:\n",
    "                print(e)\n",
    "\n",
    "\n",
    "test_fifo = FIFO()\n",
    "test_fifo.insert('A')\n",
    "test_fifo.insert('B')\n",
    "test_fifo.insert('C')\n",
    "print(test_fifo.queue)\n",
    "test_fifo.get()\n",
    "print(test_fifo.queue)\n",
    "test_fifo.reset()\n",
    "print(test_fifo.queue)\n"
   ],
   "outputs": [
    {
     "name": "stdout",
     "output_type": "stream",
     "text": [
      "['A', 'B', 'C']\n",
      "['B', 'C']\n",
      "[]\n"
     ]
    }
   ],
   "execution_count": 56
  },
  {
   "cell_type": "code",
   "execution_count": 8,
   "metadata": {},
   "outputs": [
    {
     "name": "stdout",
     "output_type": "stream",
     "text": [
      "['A', 'B', 'C']\n",
      "['B', 'C']\n",
      "[]\n"
     ]
    }
   ],
   "source": [
    "class FIFOException(Exception):\n",
    "        pass\n",
    "    \n",
    "class FIFO:\n",
    "    def __init__(self):\n",
    "        self.inner_list = []\n",
    "        \n",
    "    def insert(self,elem):\n",
    "        self.inner_list.append(elem)\n",
    "        \n",
    "    def get(self):\n",
    "        \n",
    "        if self.has_next():        \n",
    "            result = self.inner_list[0]\n",
    "            self.inner_list = self.inner_list[1:]\n",
    "            return result\n",
    "        else:\n",
    "            raise FIFOException('be careful! empty list')\n",
    "    \n",
    "    def has_next(self):\n",
    "        return len(self.inner_list)>0\n",
    "    \n",
    "    def reset(self):\n",
    "        while True:\n",
    "            if self.has_next():\n",
    "                self.get()\n",
    "            else:\n",
    "                break\n",
    "\n",
    "test_fifo = FIFO()\n",
    "test_fifo.insert('A')\n",
    "test_fifo.insert('B')\n",
    "test_fifo.insert('C')\n",
    "print(test_fifo.inner_list)\n",
    "test_fifo.get()\n",
    "print(test_fifo.inner_list)\n",
    "test_fifo.reset()\n",
    "print(test_fifo.inner_list)\n"
   ]
  },
  {
   "cell_type": "markdown",
   "metadata": {},
   "source": [
    "## Ex6\n",
    "A list of triplets in the format (patient_id, SNP_id, trait), e.g., (P01,\n",
    "rs206437, hypertension) , is used for a Genome-Wide Association Study. Write\n",
    "a piece of software that prints, for each trait, the most associated SNP_id."
   ]
  },
  {
   "cell_type": "code",
   "metadata": {
    "ExecuteTime": {
     "end_time": "2025-06-24T23:49:06.732272Z",
     "start_time": "2025-06-24T23:49:06.727123Z"
    }
   },
   "source": [
    "l = [\n",
    "    (\"P01\", \"rs206437\", \"hypertension\"),\n",
    "    (\"P02\", \"s2\",       \"hypertension\"),\n",
    "    (\"P03\", \"s2\",       \"hypertension\"),\n",
    "    (\"P03\", \"rs206437\", \"hypertension\"),\n",
    "    (\"P04\", \"rs206437\", \"hypertension\"),\n",
    "    (\"P04\", \"rs206437\", \"brca\"),\n",
    "]"
   ],
   "outputs": [],
   "execution_count": 2
  },
  {
   "metadata": {
    "ExecuteTime": {
     "end_time": "2025-06-24T23:49:09.954459Z",
     "start_time": "2025-06-24T23:49:09.945599Z"
    }
   },
   "cell_type": "code",
   "source": [
    "gwd={}\n",
    "for p,snp,trait in l:\n",
    "    if trait not in gwd:\n",
    "        gwd[trait]={snp:1}\n",
    "    elif snp not in gwd[trait]:\n",
    "        gwd[trait].update({snp:1})\n",
    "    else:\n",
    "        gwd[trait][snp]+=1\n",
    "\n",
    "frequent=[]\n",
    "for trait,snp_dict in gwd.items():\n",
    "    maax=max(list(snp_dict.values()))\n",
    "    for snp,count in snp_dict.items():\n",
    "        if count == maax:\n",
    "            frequent.append(f'the most associated snp for {trait} is {snp}: {count}')\n",
    "\n",
    "\n",
    "\n",
    "\n"
   ],
   "outputs": [
    {
     "data": {
      "text/plain": [
       "{'hypertension': {'rs206437': 3, 's2': 2}, 'brca': {'rs206437': 1}}"
      ]
     },
     "execution_count": 3,
     "metadata": {},
     "output_type": "execute_result"
    }
   ],
   "execution_count": 3
  },
  {
   "cell_type": "code",
   "execution_count": 28,
   "metadata": {},
   "outputs": [
    {
     "name": "stdout",
     "output_type": "stream",
     "text": [
      "For trait hypertension, the snp ['rs206437'] is the most associated/represented one, with 3 occurrences\n",
      "\n",
      "For trait brca, the snp ['rs206437'] is the most associated/represented one, with 1 occurrences\n",
      "\n"
     ]
    }
   ],
   "source": [
    "#alt1\n",
    "do = {}\n",
    "for patient,snp,trait in l:\n",
    "    if trait not in do.keys():\n",
    "        do[trait] = {}\n",
    "        do[trait][snp] = 1\n",
    "    else:\n",
    "        if snp not in do[trait]:\n",
    "            do[trait][snp] = 1\n",
    "        else:\n",
    "            do[trait][snp] += 1\n",
    "\n",
    "#alt2\n",
    "#do = {}\n",
    "#for patient,snp,trait in l:\n",
    "#    if trait in do.keys():\n",
    "#        if snp in do[trait].keys():\n",
    "#            do[trait][snp] += 1\n",
    "#        else:\n",
    "#            do[trait][snp] = 1\n",
    "#    else:\n",
    "#        do[trait] = {} ### inner dictionary\n",
    "#        do[trait][snp] = 1\n",
    "            \n",
    "for trait in do:\n",
    "    max_value_trait = max(do[trait].values())\n",
    "    \n",
    "    snp_with_max = [snp  for snp,value in do[trait].items() if value == max_value_trait ]\n",
    "    \n",
    "    print(f'For trait {trait}, the snp {snp_with_max} is the most associated/represented one, with {max_value_trait} occurrences\\n')"
   ]
  }
 ],
 "metadata": {
  "kernelspec": {
   "display_name": "Python 3",
   "language": "python",
   "name": "python3"
  },
  "language_info": {
   "codemirror_mode": {
    "name": "ipython",
    "version": 3
   },
   "file_extension": ".py",
   "mimetype": "text/x-python",
   "name": "python",
   "nbconvert_exporter": "python",
   "pygments_lexer": "ipython3",
   "version": "3.8.11"
  }
 },
 "nbformat": 4,
 "nbformat_minor": 4
}
