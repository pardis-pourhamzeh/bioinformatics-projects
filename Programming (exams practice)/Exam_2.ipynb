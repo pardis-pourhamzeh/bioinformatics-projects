{
 "cells": [
  {
   "metadata": {},
   "cell_type": "markdown",
   "source": [
    "We wish to represent a scenario of dartboard shooting with Python classes. Each dart thrown is recorded as a 2-dimensional point on a board like the one in the figure.\n",
    "\n",
    "### Ex 1) [4pts]\n",
    "Each DartPoint has attributes: x-coordinate, y-coordinate, and distance from the center (origin of the Cartesian axes). Build the DartPoint class with:\n",
    "\n",
    "Constructor:\n",
    "\n",
    "-A method to calculate the distance from the origin.\n",
    "\n",
    "-A method to calculate the distance between two points."
   ],
   "id": "ef7bce59778d7843"
  },
  {
   "metadata": {},
   "cell_type": "markdown",
   "source": [
    " ### Ex2[4pts]\n",
    "\n",
    " The target includes a central area (the closest one to the origin, i.e., a circle of radius 10) and a medium area (concentric, with inner radius 10 and outer radius 20). The square that houses the target at its center has a side of 60.\n",
    "\n",
    "Within the DartPoint class, implement a static method score(point) that returns the following scores:\n",
    "\n",
    "• 3 if the dart was dropped in the central area;\n",
    "\n",
    "• 1 if the dart was dropped in the medium area;\n",
    "\n",
    "• 0 if the dart is in the square but not inside the target; • -1 if the dart is outside the square.\n"
   ],
   "id": "72c375b9261628fb"
  },
  {
   "metadata": {
    "ExecuteTime": {
     "end_time": "2025-06-20T19:11:41.727408Z",
     "start_time": "2025-06-20T19:11:41.713284Z"
    }
   },
   "cell_type": "code",
   "source": [
    "import os\n",
    "\n",
    "\n",
    "class DartPoint:\n",
    "    def __init__(self, x, y):\n",
    "        self.x = x\n",
    "        self.y = y\n",
    "\n",
    "    def __str__(self):\n",
    "        return f'Point({self.x}, {self.y}) '\n",
    "\n",
    "    @property\n",
    "    def to_center(self):\n",
    "        return (self.x**2 + self.y**2)**0.5\n",
    "\n",
    "    @staticmethod\n",
    "    def distance(p1,p2):\n",
    "        if isinstance(p1,DartPoint) and isinstance(p2,DartPoint):\n",
    "            return ((p1.x - p2.x)**2 + (p1.y - p2.y)**2)**0.5\n",
    "        else:\n",
    "            raise TypeError('p1 and p2 must be DartPoint')\n",
    "\n",
    "    @staticmethod\n",
    "    def Score(p1):\n",
    "        if isinstance(p1,DartPoint):\n",
    "            center=DartPoint(10,10).to_center\n",
    "            medium=DartPoint(20,20).to_center\n",
    "            p=p1.to_center\n",
    "            if p<center:\n",
    "                return 3\n",
    "            elif p>center and p<medium:\n",
    "                return 1\n",
    "            elif p>medium and p<60:\n",
    "                return 0\n",
    "            else:\n",
    "                return -1\n",
    "\n",
    "\n",
    "p1= DartPoint(4,1)\n",
    "p2= DartPoint(102,233)\n",
    "p3= DartPoint(15,15)\n",
    "p4= DartPoint(21,17)\n",
    "print(p1)\n",
    "print(\"it's distance to p2=\", DartPoint.distance(p1,p2))\n",
    "score = DartPoint.Score(p1)\n",
    "print(\"SCORE:\", score)\n",
    "\n"
   ],
   "id": "731409ef4ff68f3e",
   "outputs": [
    {
     "name": "stdout",
     "output_type": "stream",
     "text": [
      "Point(4, 1) \n",
      "it's distance to p2= 251.8491612056709\n",
      "SCORE: 3\n"
     ]
    }
   ],
   "execution_count": 124
  },
  {
   "metadata": {},
   "cell_type": "markdown",
   "source": [
    "### Ex 3) [5pts]\n",
    "Implement a Round class that keeps, as an attribute, a list of DartPoints. These are added one by one to the Round, with an\n",
    "\n",
    "appropriate method that checks the object type; if this is not as expected, the method raises a user-defined exception that should be handled."
   ],
   "id": "65770461af0513c8"
  },
  {
   "metadata": {
    "ExecuteTime": {
     "end_time": "2025-06-20T19:11:54.065158Z",
     "start_time": "2025-06-20T19:11:54.046761Z"
    }
   },
   "cell_type": "code",
   "source": [
    "class NotValid(Exception):\n",
    "    pass\n",
    "\n",
    "class Round:\n",
    "    def __init__(self):\n",
    "        self.points = []\n",
    "\n",
    "    def __iter__(self):\n",
    "        return iter(self.points)\n",
    "\n",
    "    def __str__(self):\n",
    "        ls=', '.join([str(p) for p in self.points])\n",
    "        return f'This round: [{ls}]'\n",
    "\n",
    "\n",
    "    def addPoint(self, point):\n",
    "      try:\n",
    "        if isinstance(point, DartPoint):\n",
    "            self.points.append(point)\n",
    "        else:\n",
    "            raise NotValid ('you must insert a DartPoint!')\n",
    "      except NotValid as e:\n",
    "          print(e)\n",
    "\n",
    "    def Printer(self):\n",
    "      with open ('external.txt', 'w') as f:\n",
    "        points= ', '.join([str(p)for p in self.points ])\n",
    "        num= f'number of dartpoints in this round: {len(self.points)}'\n",
    "        scores=[DartPoint.Score(p) for p in self.points]\n",
    "        pairwise=[DartPoint.distance(self.points[i], self.points[j]) for i in range(0,len(self.points)-1)\n",
    "                   for j in range(i+1,len(self.points))]\n",
    "        total=sum(scores)\n",
    "        if not any(d>5 for d in pairwise):\n",
    "                total +=10\n",
    "        total_score= f'total score: {total}'\n",
    "\n",
    "        res= f'{scores.count(3)} points in centeral area\\n{scores.count(1)} points in medium area\\n{scores.count(-1)} points outside'\n",
    "        mn= min([p.to_center for p in self.points])\n",
    "        closest= f\"the closest point(s): { ', '.join( [str(p) for p in self.points if p.to_center==mn] )}\"\n",
    "        f.writelines('\\n'.join([points, num, total_score,res, closest]))\n",
    "      with open('external.txt','r') as f:\n",
    "            fl='\\n'.join(f.readlines())\n",
    "      print(fl)\n",
    "      return fl\n",
    "\n",
    "\n",
    "round1 =Round()\n",
    "round1.addPoint(p1)\n",
    "round1.addPoint(p2)\n",
    "round1.addPoint(p3)\n",
    "round1.addPoint(p4)\n",
    "round1.Printer()\n",
    "print(a)\n",
    "\n"
   ],
   "id": "4b2efede7c397155",
   "outputs": [
    {
     "name": "stdout",
     "output_type": "stream",
     "text": [
      "Point(4, 1) , Point(102, 233) , Point(15, 15) , Point(21, 17) \n",
      "\n",
      "number of dartpoints in this round: 4\n",
      "\n",
      "total score: 4\n",
      "\n",
      "1 points in centeral area\n",
      "\n",
      "2 points in medium area\n",
      "\n",
      "1 points outside\n",
      "\n",
      "the closest point(s): Point(4, 1) \n",
      "1\n"
     ]
    }
   ],
   "execution_count": 125
  },
  {
   "metadata": {},
   "cell_type": "markdown",
   "source": [
    "### Ex 4) [9pts]\n",
    "In the Round class, implement a method that prints, to an external file, the following information:\n",
    "\n",
    "- all the DartPoints (hint: these are complex objects);\n",
    "-\n",
    "- the number of DartPoints in the Round;\n",
    "-\n",
    "- a total score, calculated as the sum of the score of each dart (see Ex 2), plus a +10 bonus, awarded\n",
    "-\n",
    "when the pair-wise distance between each two darts never exceeds 5;\n",
    "\n",
    "- the number of DartPoints dropped respectively in the central, medium, and outside areas; - the DartPoint(s) that are closest to the origin.\n",
    "Note: solutions using list comprehension, in any of the points above, are preferred [+1pt].\n"
   ],
   "id": "8f4237527642f93c"
  },
  {
   "metadata": {},
   "cell_type": "markdown",
   "source": [
    "### Ex 5) [5pts]\n",
    " In the main code, show an example of instantiation of the created classes, with at least four DartPoints, which are all included in one Round. For the Round that you created:\n",
    "- call the method implemented in Ex 4 to print the report;\n",
    "- show the boxplot of all the distances from the origin of the included DartPoints, excluding points\n",
    "outside of the square."
   ],
   "id": "582a773e37e581e4"
  },
  {
   "metadata": {
    "ExecuteTime": {
     "end_time": "2025-06-20T19:28:54.522671Z",
     "start_time": "2025-06-20T19:28:54.456770Z"
    }
   },
   "cell_type": "code",
   "source": [
    "x=[p.to_center for p in round1.points if DartPoint.Score(p) != -1]\n",
    "import matplotlib.pyplot as plt\n",
    "plt.boxplot(x)\n",
    "plt.title('distance to origin for points inside the square')\n",
    "plt.xlabel('each round')\n",
    "plt.ylabel('distance to origin')\n",
    "plt.xticks([1],['round1'], rotation=90)\n",
    "plt.show()"
   ],
   "id": "359b8d4d732d5d25",
   "outputs": [
    {
     "data": {
      "text/plain": [
       "<Figure size 640x480 with 1 Axes>"
      ],
      "image/png": "[encoded data removed]"
     },
     "metadata": {},
     "output_type": "display_data"
    }
   ],
   "execution_count": 141
  }
 ],
 "metadata": {
  "kernelspec": {
   "display_name": "Python 3",
   "language": "python",
   "name": "python3"
  },
  "language_info": {
   "codemirror_mode": {
    "name": "ipython",
    "version": 2
   },
   "file_extension": ".py",
   "mimetype": "text/x-python",
   "name": "python",
   "nbconvert_exporter": "python",
   "pygments_lexer": "ipython2",
   "version": "2.7.6"
  }
 },
 "nbformat": 4,
 "nbformat_minor": 5
}
